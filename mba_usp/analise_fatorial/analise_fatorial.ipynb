{
 "cells": [
  {
   "cell_type": "markdown",
   "id": "38750257-f645-4e01-b78c-9a2003c684b5",
   "metadata": {},
   "source": [
    "# Capítulo 10 - Análise Fatorial por Componentes Principais"
   ]
  },
  {
   "cell_type": "markdown",
   "id": "cb02b032-b986-4f76-9639-426e5a797c24",
   "metadata": {},
   "source": [
    "# 10.1. Introdução"
   ]
  },
  {
   "cell_type": "markdown",
   "id": "c359c92d-07d2-409d-8b7b-4724c0522315",
   "metadata": {},
   "source": [
    "### Motivação"
   ]
  },
  {
   "cell_type": "markdown",
   "id": "52ca33fe-1bf1-4fa0-8680-88997e97681e",
   "metadata": {},
   "source": [
    "As técnicas exploratórias de **análise fatorial** são muito úteis quando há a intenção de se trabalhar com variáveis que apresentem, entre si, **coeficientes de correlação** relativamente elevados e se deseja estabelecer novas variáveis que captem o comportamento conjunto das variáveis originais. Cada uma dessas novas variáveis é chamada de **fator**, que pode ser entendido como o **agrupamento de variáveis** a partir de critérios estabelecidos."
   ]
  },
  {
   "cell_type": "markdown",
   "id": "d1577c6f-ae4f-4e99-b6bc-83352a74a1f0",
   "metadata": {},
   "source": [
    "### Análise Fatorial x Análise de Agrupamentos"
   ]
  },
  {
   "cell_type": "markdown",
   "id": "fdc9521b-2eb1-4df4-be8f-cb60f5eaec66",
   "metadata": {},
   "source": [
    "Enquanto a análise de agrupamentos faz uso de medidas de distância ou de semelhança para agrupar observações e formar *clusters*, a análise fatorial utiliza coeficientes de correlação para agrupar variáveis e gerar fatores."
   ]
  },
  {
   "cell_type": "markdown",
   "id": "1c92b1c0-b9ca-480e-9732-186cfb1e7dd1",
   "metadata": {},
   "source": [
    "### O que é a Análise Fatorial?"
   ]
  },
  {
   "cell_type": "markdown",
   "id": "11834cd4-e2d1-4c5a-8c2e-f788ec99fb37",
   "metadata": {},
   "source": [
    "Dentre os métodos para determinação de faotres, o conhecido como **componentes principais** é, sem dúvida, o mais utilizado em análise fatorial, já que se baseia no pressuposto de que podem ser extraídos **fatores não correlacionados** a partir de **combinações lineares das variáveis originais**. A análise fatorial por componentes principais (PCA) premite, portanto, que, a partir de um conjunto de variáveis originais correlacionadas entre si, seja determinado outro conjunto de variáveis (fatores) resultantes da combinação linear do primeiro conjunto."
   ]
  },
  {
   "cell_type": "markdown",
   "id": "b252d04e-dfef-4414-870d-d6320a3ede2e",
   "metadata": {},
   "source": [
    "### Objetivos Principais da Análise Fatorial"
   ]
  },
  {
   "cell_type": "markdown",
   "id": "a67d591c-084e-416c-8ce2-cac20a0cd772",
   "metadata": {},
   "source": [
    "A análise fatorial por componentes principais apresenta quatro objetivos principais:\n",
    "1. Identificação de correlação entre variáveis originais para a criação de fatores que representam a combinação linear daquelas variáveis (**redução estrutural**);\n",
    "2. Verificação da **vaidade de constructos** previamente estabelecidos, tendo em vista a alocação das variáveis originais em cada fator;\n",
    "3. **Elaboração de *rankings*** por meio da criação de indicadores de desempenho a partir dos fatores; e\n",
    "4. Extração de fatores ortogonais para posterior uso em técnicas multivariadas confirmatórias que necessitam de **ausência de multicolinearidade**."
   ]
  },
  {
   "cell_type": "markdown",
   "id": "f459650b-3f5c-414f-aa33-4492d5a56a00",
   "metadata": {},
   "source": [
    "### O que é PCA?"
   ]
  },
  {
   "cell_type": "markdown",
   "id": "67443c8e-dc75-4afa-b0e7-ba3f8d01db2e",
   "metadata": {},
   "source": [
    "O estatístico matemático e influente teórico econômico Harold Hotelling convencionou chamar, em 1933, de *Principal Component Analysis* a análise que determina componentes a partir da maximização da variância de dados originais."
   ]
  },
  {
   "cell_type": "markdown",
   "id": "cb6fb26b-0363-41f1-a6b9-86e869e59164",
   "metadata": {},
   "source": [
    "# 10.2. Análise Fatorial por Componentes Principais"
   ]
  },
  {
   "cell_type": "markdown",
   "id": "a4ecf5d3-65e8-44f8-88f3-0d4731c33b3a",
   "metadata": {},
   "source": [
    "Muitos são os procedimentos inerentes à análise fatorial, com diferentes métodos para a determinação (**extração**) de fatores a partir da matriz de correlações de Pearson. O método mais utilizado é conhecido por componentes principais, em que a consequente redução estrutural é também chamada de **transformação de Karhunen-Loève**."
   ]
  },
  {
   "cell_type": "markdown",
   "id": "ec20cad6-5e10-4aba-9ba2-6ec151340be6",
   "metadata": {},
   "source": [
    "## 10.2.1. Correlação linear de Pearson e conceito de fator"
   ]
  },
  {
   "cell_type": "markdown",
   "id": "f9a1769e-08d2-4f53-96af-c9793b51eebd",
   "metadata": {},
   "source": [
    "Imaginemos um banco de dados que apresente $n$ observações e, para cada observação $i(i=1,\\ldots,n)$, valores correspondentes a cada uma das $k$ variáveis métricas $X$, conforme mostra a Tabela 10.1.\n",
    "\n",
    "**Tabela 10.1** Modelo geral de um banco de dados para elaboração fatorial"
   ]
  },
  {
   "cell_type": "code",
   "execution_count": 17,
   "id": "426f6b2f-8d4a-4a28-b2fa-b5e9fab834b4",
   "metadata": {},
   "outputs": [
    {
     "data": {
      "text/html": [
       "<div>\n",
       "<style scoped>\n",
       "    .dataframe tbody tr th:only-of-type {\n",
       "        vertical-align: middle;\n",
       "    }\n",
       "\n",
       "    .dataframe tbody tr th {\n",
       "        vertical-align: top;\n",
       "    }\n",
       "\n",
       "    .dataframe thead th {\n",
       "        text-align: right;\n",
       "    }\n",
       "</style>\n",
       "<table border=\"1\" class=\"dataframe\">\n",
       "  <thead>\n",
       "    <tr style=\"text-align: right;\">\n",
       "      <th></th>\n",
       "      <th>Observação $i$</th>\n",
       "      <th>$X_{1i}$</th>\n",
       "      <th>$X_{2i}$</th>\n",
       "      <th>$\\cdots$</th>\n",
       "      <th>$X_{ki}$</th>\n",
       "    </tr>\n",
       "  </thead>\n",
       "  <tbody>\n",
       "    <tr>\n",
       "      <th>0</th>\n",
       "      <td>1</td>\n",
       "      <td>$X_{11}$</td>\n",
       "      <td>$X_{21}$</td>\n",
       "      <td>$\\cdots$</td>\n",
       "      <td>$X_{k1}$</td>\n",
       "    </tr>\n",
       "    <tr>\n",
       "      <th>1</th>\n",
       "      <td>2</td>\n",
       "      <td>$X_{12}$</td>\n",
       "      <td>$X_{22}$</td>\n",
       "      <td>$\\cdots$</td>\n",
       "      <td>$X_{k2}$</td>\n",
       "    </tr>\n",
       "    <tr>\n",
       "      <th>2</th>\n",
       "      <td>3</td>\n",
       "      <td>$X_{13}$</td>\n",
       "      <td>$X_{23}$</td>\n",
       "      <td>$\\cdots$</td>\n",
       "      <td>$X_{k3}$</td>\n",
       "    </tr>\n",
       "    <tr>\n",
       "      <th>3</th>\n",
       "      <td>$\\vdots$</td>\n",
       "      <td>$\\vdots$</td>\n",
       "      <td>$\\vdots$</td>\n",
       "      <td>$\\ddots$</td>\n",
       "      <td>$\\vdots$</td>\n",
       "    </tr>\n",
       "    <tr>\n",
       "      <th>4</th>\n",
       "      <td>$n$</td>\n",
       "      <td>$X_{1n}$</td>\n",
       "      <td>$X_{2n}$</td>\n",
       "      <td>$\\cdots$</td>\n",
       "      <td>$X_{kn}$</td>\n",
       "    </tr>\n",
       "  </tbody>\n",
       "</table>\n",
       "</div>"
      ],
      "text/plain": [
       "  Observação $i$  $X_{1i}$  $X_{2i}$  $\\cdots$  $X_{ki}$\n",
       "0              1  $X_{11}$  $X_{21}$  $\\cdots$  $X_{k1}$\n",
       "1              2  $X_{12}$  $X_{22}$  $\\cdots$  $X_{k2}$\n",
       "2              3  $X_{13}$  $X_{23}$  $\\cdots$  $X_{k3}$\n",
       "3       $\\vdots$  $\\vdots$  $\\vdots$  $\\ddots$  $\\vdots$\n",
       "4            $n$  $X_{1n}$  $X_{2n}$  $\\cdots$  $X_{kn}$"
      ]
     },
     "execution_count": 17,
     "metadata": {},
     "output_type": "execute_result"
    }
   ],
   "source": [
    "import pandas as pd\n",
    "\n",
    "table_10_1 = pd.DataFrame({'Observação $i$': [1, 2, 3, '$\\\\vdots$', '$n$'], \n",
    "                           '$X_{1i}$': ['$X_{11}$', '$X_{12}$', '$X_{13}$', '$\\\\vdots$', '$X_{1n}$'],\n",
    "                           '$X_{2i}$': ['$X_{21}$', '$X_{22}$', '$X_{23}$', '$\\\\vdots$', '$X_{2n}$'],\n",
    "                           '$\\\\cdots$': ['$\\\\cdots$', '$\\\\cdots$', '$\\\\cdots$', '$\\\\ddots$', '$\\\\cdots$'],\n",
    "                           '$X_{ki}$': ['$X_{k1}$', '$X_{k2}$', '$X_{k3}$', '$\\\\vdots$', '$X_{kn}$'],\n",
    "                          })\n",
    "table_10_1"
   ]
  },
  {
   "cell_type": "markdown",
   "id": "dfd8bfba-6e22-487e-b32a-be840f795c65",
   "metadata": {},
   "source": [
    "A partir do banco de dados, e cada a intenção de que sejam extraídos fatores a partir das $k$ variáveis $X$, devemos definir a **matriz de correlações** $\\rho$ que apresenta os valores da **correlação linear de Pearson** entre cada par de variáveis, conforme mostra a expressão (10.1)."
   ]
  },
  {
   "cell_type": "markdown",
   "id": "ee8666ca",
   "metadata": {},
   "source": [
    "$$\n",
    "\\begin{equation}\\tag{10.1}\n",
    "\\rho=\\begin{pmatrix}\n",
    "1 & \\rho_{12} & \\cdots & \\rho_{1k}\\\\\n",
    "\\rho_{21} & 1 & \\cdots & \\rho_{2k}\\\\\n",
    "\\vdots & \\vdots & \\ddots & \\vdots\\\\\n",
    "\\rho_{k1} & \\rho_{k2} & \\cdots & 1\n",
    "\\end{pmatrix}\n",
    "\\end{equation}\n",
    "$$"
   ]
  },
  {
   "cell_type": "markdown",
   "id": "9754dc02",
   "metadata": {},
   "source": [
    "A matriz de correlações $\\rho$ é simétrica em relação à diagonal principal que, obviamente, apresenta valores iguais a 1. Para, por exemplo, as variáveis $X_1$ e $X_2$, a correlação de Pearson $\\rho_{12}$ pode ser calculadas com base na expressão (10.2)."
   ]
  },
  {
   "cell_type": "markdown",
   "id": "506eb37b",
   "metadata": {},
   "source": [
    "$$\n",
    "\\begin{equation}\\tag{10.2}\n",
    "\\rho_{12}=\\frac{\\sum\\limits_{i=1}^{n}(X_{1i}-\\overline{X}_1)\\cdot(X_{2i}-\\overline{X}_2)}{\\sqrt{\\sum\\limits_{i=1}^{n}(X_{1i}-\\overline{X}_1)^2}\\cdot\\sqrt{\\sum\\limits_{i=1}^{n}(X_{2i}-\\overline{X}_2)^2}}\n",
    "\\end{equation}\n",
    "$$"
   ]
  },
  {
   "cell_type": "markdown",
   "id": "629c0ada",
   "metadata": {},
   "source": [
    "em que $\\overline{X}_1$ e $\\overline{X}_2$ representam, respectivamente, as médias ds variáveis $X_1$ e $X_2$."
   ]
  },
  {
   "cell_type": "markdown",
   "id": "b99b4c86-a148-470c-b30c-812868bb3920",
   "metadata": {},
   "source": [
    "### Métrica da Correlação de Pearson"
   ]
  },
  {
   "cell_type": "markdown",
   "id": "652063d1-b093-4f47-9e20-d49c6525a0da",
   "metadata": {},
   "source": [
    "A correlação de Pearson é uma medida do grau da relação linear entre duas variáveis métricas, podendo variar entre -1 e 1, um valor mais próximo de um desses extremos indica a existência de relação linear entre as duas variáveis em análise, que, dessa forma, podem contribuir significativamente para a extração de um único fator. Por outro lado, um valor da correlação de Pearson muito próximo de 0 indica que a relação linear entre as duas variáveis é praticamente inexistente; portanto, diferentes fatores podem ser extraídos."
   ]
  },
  {
   "cell_type": "markdown",
   "id": "0ce8f586-83ab-4522-8756-59378a054e90",
   "metadata": {},
   "source": [
    "## 10.2.2. Adequação global da análise fatorial: estatística Kaiser-Meyer-Olkin (KMO) e teste de esfericidade de Bartlett"
   ]
  },
  {
   "cell_type": "markdown",
   "id": "191b2886-8ba6-4438-b91b-dcb2fb998675",
   "metadata": {},
   "source": [
    "Uma adequada extração de fatores a partir de variáveis originais requer que a matriz de correlações $\\rho$ apresente valroes relativamente elevados e estaticamente significantes. Embora a inspeção visual da matriz de correlações $\\rho$ não revele se a extração de fatores será, de fato, adequada, uma quantidade substancial de valores inferiores a 0,30 representa um preliminar indício de que a análise fatorial poderá ser inapropriada."
   ]
  },
  {
   "cell_type": "markdown",
   "id": "1b18c7b7-c9cb-483b-b272-62a80084f0c0",
   "metadata": {},
   "source": [
    "Para que seja verificada a adequação global propriamente dita de extração de fatores, devemos recorrer à **estatística Kaiser-Meyer-Olkin (KMO)** e ao teste **teste de esfericidade de Barlett**."
   ]
  },
  {
   "cell_type": "markdown",
   "id": "9568e1a2-7cdf-4185-9277-8b5d2060dcae",
   "metadata": {},
   "source": [
    "### Estatística Kaiser-Meyer-Olkin (KMO)"
   ]
  },
  {
   "cell_type": "markdown",
   "id": "0748f69c-8460-415a-bad9-0000854fe48f",
   "metadata": {},
   "source": [
    "A estatística KMO fornece a proporção de variância considera comum a todas as variáveis na amostra em análise, ou seja, que pode ser atribuída à existência de um fator comum. Essa estatística varia de 0 a 1, e, enquanto valores mais próximos de 1 indicam que as variáveis compartilham um percentual de variância bastante elevado (correlações de Pearson altas), valores mais próximos de 0 são decorrentes de correlações de Pearson baixas entre as variáveis, o que pode indicar que a análise fatorial será inadequada. A estatística KMO, apresenta inicialmente por Kaiser (1970), pode ser calculada por meio da expressão (10.3)."
   ]
  },
  {
   "cell_type": "markdown",
   "id": "7b1d9e42-ef67-403a-9442-243e99abb5ea",
   "metadata": {},
   "source": [
    "$$\n",
    "\\begin{equation}\\tag{10.3}\n",
    "\\text{KMO}=\\frac{\\sum\\limits_{l=1}^{k}\\sum\\limits_{c=1}^{k}\\rho_{lc}^2}{\\sum\\limits_{l=1}^{k}\\sum\\limits_{c=1}^{k}\\rho_{lc}^2+\\sum\\limits_{l=1}^{k}\\sum\\limits_{c=1}^{k}\\varphi_{lc}^2},l\\neq c\n",
    "\\end{equation}\n",
    "$$"
   ]
  },
  {
   "cell_type": "markdown",
   "id": "d6b61ae5-beae-4905-be03-d78ba7a4fbce",
   "metadata": {},
   "source": [
    "em que $l$ e $c$ representam, respectivamente, as linhas e colunas da matriz de correlações $\\rho$, e os termos $\\varphi$ representam os **coeficientes de correlação parcial** entre duas variáveis. Enquanto os coeficientes de correlação de Pearson $\\rho$ são também chamados de **coeficientes de correlação de ordem zero**, os coeficientes de correlação parcial $\\varphi$ são também conhecidos por **coeficientes de correlação de ordem superior**. Para três variáveis, são também chamados de **coeficientes de correlação de primeira ordem**, para quatro variáveis, de **coeficientes de correlação de segunda ordem** e assim sucessivamente."
   ]
  },
  {
   "cell_type": "markdown",
   "id": "616ccc13-d6bc-411c-9853-e1c5645803bf",
   "metadata": {},
   "source": [
    "O Quadro 10.1 apresenta, segundo critério já bastante aceito na literatura, um indicativo sobre a relação entre a estatística KMO e a adequação da análise fatorial.\n",
    "\n",
    "**Quadro 10.1** Relação entre a estística KMO e a adequação global da análise fatorial.\n",
    "|Estatística KMO|Adequação Global da Análise Fatorial|\n",
    "|:-:|:-:|\n",
    "|Entre 1,00 e 0,90|Muito boa|\n",
    "|Entre 0,90 e 0,80|Boa|\n",
    "|Entre 0,80 e 0,70|Média|\n",
    "|Entre 0,70 e 0,60|Razoável|\n",
    "|Entre 0,60 e 0,50|Má|\n",
    "|Menor do que 0,50|Inaceitável|"
   ]
  },
  {
   "cell_type": "markdown",
   "id": "e1731f5e-bf1f-44f1-a6c3-f9582e044440",
   "metadata": {},
   "source": [
    "### Teste de Esfericidade de Bartlett"
   ]
  },
  {
   "cell_type": "markdown",
   "id": "fc5ed922-780f-41de-acb3-cba1a593f325",
   "metadata": {},
   "source": [
    "O teste de esfericidade de Bartlett consiste em comparar a matriz de correlações $\\rho$ com uma matriz identidade $\\mathbf{I}$ de mesma dimensão. Se as diferenças entre os valores correspondentes fora da diagonal principal de cada matriz não forem estatisticamente diferentesde 0, a determinado nível de significância, poderemos considerar que a extração dos fatores não será adequada. Nesse caso, em outras palavras, as correlações de Pearson entre cada par de variáveis são estatisticamente iguais a 0, o que invibiliza qualquer tentativa de extração de fatores a partir das variáveis originais. Logo, podemos definir as hipóteses nula e alternativa do teste de esfericidade de Bartlett da seguinte maneira:"
   ]
  },
  {
   "cell_type": "markdown",
   "id": "d6b45402-0c1d-4b46-a934-190a9293bdcd",
   "metadata": {},
   "source": [
    "$$\n",
    "H_0:\\rho = \\begin{pmatrix}\n",
    "1 & \\rho_{12} & \\cdots & \\rho_{1k} \\\\\n",
    "\\rho_{21} & 1 & \\cdots & \\rho_{2k} \\\\\n",
    "\\vdots & \\vdots & \\ddots & \\vdots \\\\\n",
    "\\rho_{k1} & \\rho_{k2} & \\cdots & 1\n",
    "\\end{pmatrix} = \\mathbf{I} = \\begin{pmatrix}\n",
    "1 & 0 & \\cdots & 0 \\\\\n",
    "0 & 1 & \\cdots & 0 \\\\\n",
    "\\vdots & \\vdots & \\ddots & \\vdots \\\\\n",
    "0 & 0 & \\cdots & 1\n",
    "\\end{pmatrix}\n",
    "$$\n",
    "\n",
    "$$\n",
    "H_1:\\rho = \\begin{pmatrix}\n",
    "1 & \\rho_{12} & \\cdots & \\rho_{1k} \\\\\n",
    "\\rho_{21} & 1 & \\cdots & \\rho_{2k} \\\\\n",
    "\\vdots & \\vdots & \\ddots & \\vdots \\\\\n",
    "\\rho_{k1} & \\rho_{k2} & \\cdots & 1\n",
    "\\end{pmatrix} \\neq \\mathbf{I} = \\begin{pmatrix}\n",
    "1 & 0 & \\cdots & 0 \\\\\n",
    "0 & 1 & \\cdots & 0 \\\\\n",
    "\\vdots & \\vdots & \\ddots & \\vdots \\\\\n",
    "0 & 0 & \\cdots & 1\n",
    "\\end{pmatrix}\n",
    "$$"
   ]
  },
  {
   "cell_type": "markdown",
   "id": "2460d86a-30b8-4796-83f9-264870dc6ffe",
   "metadata": {},
   "source": [
    "A estatística correspondent ao teste de esfericidade de Bartlett é uma estatística $\\chi^2$, que apresenta a seguinte expressão:\n",
    "\n",
    "$$\n",
    "\\begin{equation}\\tag{10.9}\n",
    "\\chi^2=-\\left[(n-1)-\\left(\\frac{2\\cdot k+5}{6}\\right)\\cdot\\ln|D|\\right]\n",
    "\\end{equation}\n",
    "$$\n",
    "\n",
    "com $\\frac{k\\cdot(k-1)}{2}$ graus de liberdade. Sabemos que $n$ é o tamanho da amostra, e $k$, o número de variáveis. Além disso, $D$ representa o determinante da matriz de correlações $\\rho$."
   ]
  },
  {
   "cell_type": "markdown",
   "id": "ebdc62a7-646f-4cfd-865a-9c21d24b52ef",
   "metadata": {},
   "source": [
    "O teste de esfericidade de Bartlett permite, portanto, que verifiquemos, para determinado número de graus de liberdade e determinado nível de significância, se o valor total da estatística $\\chi_{\\text{Bartlett}}^2$ é maior que o valor crítico da estatística. Se for o caso, poderemos afirmar que as correlações de Pearson são estatisticamente diferentes de 0 e que, portanto, podem ser extraídos fatores a partir das variáveis originais, sendo a análise fatorial apropriada."
   ]
  },
  {
   "cell_type": "markdown",
   "id": "cbd8f27a-d086-4ec8-a3d6-d94cdcf0f2df",
   "metadata": {},
   "source": [
    "Como o *p-value* é menor que 5% de significância, podemos rejeitar a hipótese nula e aderir a hipótese alternativa."
   ]
  },
  {
   "cell_type": "markdown",
   "id": "a7e103de-c6ed-4696-a982-44aec97680d5",
   "metadata": {},
   "source": [
    "### Teste de Esfericidade de Bartlett x Estatística KMO"
   ]
  },
  {
   "cell_type": "markdown",
   "id": "86bbcc37-95fb-4502-b75c-802511b60aad",
   "metadata": {},
   "source": [
    "Ressalta-se que deve ser sempre preferido o teste de esfericidade de Bartlett à estatística KMO para efeitos de decisão sobre a adequação global da análise fatorial, visto que, enquanto o primeiro é um teste com determinado nível de significância, o segundo é apenas um coeficiente (estatística) calculado sem distribuição de probabilidades determinada e hipóteses que permitam avaliar o nível correspondente de significância para efeitos de decisão."
   ]
  },
  {
   "cell_type": "markdown",
   "id": "3ce15d56-3484-4970-bd12-7dce1eaeabb5",
   "metadata": {},
   "source": [
    "## 10.2.3 Definição dos fatores por componentes principais: determinação dos autovalores e autovetores da matriz de correlações $\\rho$ e cálculo dos *scores* fatoriais"
   ]
  },
  {
   "cell_type": "markdown",
   "id": "02fc4906-ca07-4523-b78d-bcd9dd1651f1",
   "metadata": {},
   "source": [
    "Como um fator representa a combinação linear de variáveis originais, podemos definir, para $k$ variáveis, um número máximo de $k$ fatores $(F_1,F_2,\\ldots,F_k)$, de maneira análoga à quantidade máxima de agrupamentos que podem ser definidos a partir de uma amostra com $n$ observações. Dessa forma, para $k$ variáveis, temos:"
   ]
  },
  {
   "cell_type": "markdown",
   "id": "ff073247-5a9e-442e-92df-88b48a3e25c7",
   "metadata": {},
   "source": [
    "$$\n",
    "\\begin{equation}\\tag{10.10}\n",
    "\\begin{array}{c}\n",
    "F_{1i}=s_{11}\\cdot X_{1i}+s_{21}\\cdot X_{2i}+\\cdots+s_{k1}\\cdot X_{ki}\\\\\n",
    "F_{2i}=s_{12}\\cdot X_{1i}+s_{22}\\cdot X_{2i}+\\cdots+s_{k2}\\cdot X_{ki}\\\\\n",
    "\\vdots\\\\\n",
    "F_{ki}=s_{1k}\\cdot X_{1i}+s_{2k}\\cdot X_{2i}+\\cdots+s_{kk}\\cdot X_{ki}\n",
    "\\end{array}\n",
    "\\end{equation}\n",
    "$$"
   ]
  },
  {
   "cell_type": "markdown",
   "id": "df7ff67d-f91e-4216-9799-4c0719fccc67",
   "metadata": {},
   "source": [
    "em que os termos são conhecidos por ***scores* fatoriais**, que representam os parâmetros de um modelo linear que relaciona determinado fator com as variáveis originais. O cálculo dos *scores* fatoriais é de fundamental importância dentro do contexto da técnica de análise fatorial e é elaborado a partir da determinação dos autovalores e autovetores da matriz de correlações $\\rho$. Na expressão (10.11), reproduzimos a matriz de correlações $\\rho$ já apresentada na expressão (10.1)."
   ]
  },
  {
   "cell_type": "markdown",
   "id": "266d8dc7-8ff3-4cd6-89fd-70233d89a2d0",
   "metadata": {},
   "source": [
    "$$\n",
    "\\begin{equation}\\tag{10.11}\n",
    "\\rho=\\begin{pmatrix}\n",
    "1 & \\rho_{12} & \\cdots & \\rho_{1k}\\\\\n",
    "\\rho_{21} & 1 & \\cdots & \\rho_{2k}\\\\\n",
    "\\vdots & \\vdots & \\ddots & \\vdots\\\\\n",
    "\\rho_{k1} & \\rho_{k2} & \\cdots & 1\n",
    "\\end{pmatrix}\n",
    "\\end{equation}\n",
    "$$"
   ]
  },
  {
   "cell_type": "markdown",
   "id": "4b7ebb39-dfdc-4a80-bdcd-5f0f64f55067",
   "metadata": {},
   "source": [
    "Essa matriz de correlações, com dimensões $k\\times k$, apresenta $k$ autovalores $\\lambda^2\\ (\\lambda_1^2\\geq\\lambda_2^2\\geq\\ldots\\geq\\lambda_k^2$, que podem ser obtidos a partir da solução da seguinte equação:"
   ]
  },
  {
   "cell_type": "markdown",
   "id": "5c0bd324-a96d-41a8-8e67-887bcfc07ccd",
   "metadata": {},
   "source": [
    "$$\n",
    "\\begin{equation}\\tag{10.12}\n",
    "\\det(\\lambda^2\\cdot\\mathbf{I}-\\rho)=0\n",
    "\\end{equation}\n",
    "$$"
   ]
  },
  {
   "cell_type": "markdown",
   "id": "fc77812d-fbbb-46b0-9825-921dac5f0261",
   "metadata": {},
   "source": [
    "em que $\\mathbf{I}$ é a matriz identidade, também com dimensões $k\\times k$."
   ]
  },
  {
   "cell_type": "markdown",
   "id": "9bf98eef-45b2-465a-809b-7e4d239fc097",
   "metadata": {},
   "source": [
    "Como determinado fator representa o resultado do agrupamento de variáveis, é importante ressaltar que: "
   ]
  },
  {
   "cell_type": "markdown",
   "id": "2b1082dd-69fe-49ee-9e57-5e745bd169c6",
   "metadata": {},
   "source": [
    "$$\n",
    "\\begin{equation}\\tag{10.13}\n",
    "\\lambda_1^2+\\lambda_2^2+\\cdots+\\lambda_k^2=k\n",
    "\\end{equation}\n",
    "$$"
   ]
  },
  {
   "cell_type": "markdown",
   "id": "ebd514a5-6f51-4316-8ed3-f7994a5ede32",
   "metadata": {},
   "source": [
    "A epxressão (10.12) pode ser reescrita da seguinte maneira:"
   ]
  },
  {
   "cell_type": "markdown",
   "id": "fdb5a71e-0ba5-4997-b255-4d3a88e87598",
   "metadata": {},
   "source": [
    "$$\n",
    "\\begin{equation}\\tag{10.14}\n",
    "\\begin{vmatrix}\n",
    "\\lambda^2-1 & -\\rho_{12} & \\cdots & -\\rho_{1k}\\\\\n",
    "-\\rho_{21} & \\lambda^2-1 & \\cdots & -\\rho_{2k}\\\\\n",
    "\\vdots & \\vdots & \\ddots & \\vdots\\\\\n",
    "-\\rho_{k1} & -\\rho_{k2} & \\cdots & \\lambda^2-1\n",
    "\\end{vmatrix}=0\n",
    "\\end{equation}\n",
    "$$"
   ]
  },
  {
   "cell_type": "markdown",
   "id": "68676822-3c54-489e-a4cd-e7322596194f",
   "metadata": {},
   "source": [
    "de onde podemos definir a matriz de autovalores $\\Lambda^2$ da seguinte forma:"
   ]
  },
  {
   "cell_type": "markdown",
   "id": "85440670-c5f6-4e29-8ebb-07b3d236e114",
   "metadata": {},
   "source": [
    "$$\n",
    "\\begin{equation}\\tag{10.15}\n",
    "\\Lambda^2=\\begin{pmatrix}\n",
    "\\lambda_1^2 & 0 & \\cdots & 0\\\\\n",
    "0 & \\lambda_2^2 & \\cdots & 0\\\\\n",
    "\\vdots & \\vdots & \\ddots & \\vdots\\\\\n",
    "0 & 0 & \\cdots & \\lambda_k^2\n",
    "\\end{pmatrix}\n",
    "\\end{equation}\n",
    "$$"
   ]
  },
  {
   "cell_type": "markdown",
   "id": "ba96c0ed-0d83-46c1-8ae0-07d00a94650d",
   "metadata": {},
   "source": [
    "Para que sejam definidos os autovetores da matriz $\\rho$ com base nos autovalores, devemos resolver os seguintes sistemas de equação para cada autovalor $\\lambda^2\\ (\\lambda_1^2\\geq\\lambda_2^2\\geq\\ldots\\geq\\lambda_k^2)$:"
   ]
  },
  {
   "cell_type": "markdown",
   "id": "d8244d6a-cf44-4a56-aef2-642c8f20ca78",
   "metadata": {},
   "source": [
    "### Autovetores e Autovalores"
   ]
  },
  {
   "cell_type": "markdown",
   "id": "628cdc7a-686e-43b2-954d-02a65c2b6c3a",
   "metadata": {},
   "source": [
    "#### Determinação de Autovetores $v_{11}, v_{21},\\ldots,v_{k2}$ a partir do Primeiro Autovalor ($\\lambda_1^2$):"
   ]
  },
  {
   "cell_type": "markdown",
   "id": "a34947ea-2e35-49f3-b07a-7b2acf7843d5",
   "metadata": {},
   "source": [
    "$$\n",
    "\\begin{equation}\\tag{10.16}\n",
    "\\begin{pmatrix}\n",
    "\\lambda_1^2-1 & -\\rho_{12} & \\cdots & -\\rho_{1k}\\\\\n",
    "-\\rho_{21} & \\lambda_1^2-1 & \\cdots & -\\rho_{2k}\\\\\n",
    "\\vdots & \\vdots & \\ddots & \\vdots\\\\\n",
    "-\\rho_{k1} & -\\rho_{k2} & \\cdots & \\lambda_1^2-1\n",
    "\\end{pmatrix}\\cdot\n",
    "\\begin{pmatrix}\n",
    "v_{11}\\\\\n",
    "v_{21}\\\\\n",
    "\\vdots\\\\\n",
    "v_{k1}\n",
    "\\end{pmatrix}=\n",
    "\\begin{pmatrix}\n",
    "0\\\\\n",
    "0\\\\\n",
    "\\vdots\\\\\n",
    "0\n",
    "\\end{pmatrix}\n",
    "\\end{equation}\n",
    "$$"
   ]
  },
  {
   "cell_type": "markdown",
   "id": "6c4e6a10-bdfe-4da1-8f4b-c7ddecd91dad",
   "metadata": {},
   "source": [
    "de onde vem que:"
   ]
  },
  {
   "cell_type": "markdown",
   "id": "1ff5ce66-a8a4-468a-b786-829f19011989",
   "metadata": {},
   "source": [
    "$$\n",
    "\\begin{equation}\\tag{10.17}\n",
    "\\left\\{\n",
    "\\begin{array}{c}\n",
    "(\\lambda_1^2-1)\\cdot v_{11}-\\rho_{12}\\cdot v_{21}\\cdots -\\rho_{1k}\\cdot v_{k1}=0\\\\\n",
    "-\\rho_{21}\\cdot v_{11}+(\\lambda_1^2-1)\\cdot v_{21}\\cdots -\\rho_{2k}\\cdot v_{k1}=0\\\\\n",
    "\\vdots\\\\\n",
    "-\\rho_{k1}\\cdot v_{11}-\\rho_{k2}\\cdot v_{21}+(\\lambda_1^2-1)\\cdot v_{k1}=0\n",
    "\\end{array}\n",
    "\\right.\n",
    "\\end{equation}\n",
    "$$"
   ]
  },
  {
   "cell_type": "markdown",
   "id": "ff342ebf-2d99-4b09-841a-d2703299ae03",
   "metadata": {},
   "source": [
    "#### Determinação de Autovetores $v_{12}, v_{22},\\ldots,v_{k2}$ a partir do Primeiro Autovalor ($\\lambda_2^2$):"
   ]
  },
  {
   "cell_type": "markdown",
   "id": "94d82fe0-1ae5-4d88-ab24-4dc9e7f828b1",
   "metadata": {},
   "source": [
    "$$\n",
    "\\begin{equation}\\tag{10.18}\n",
    "\\begin{pmatrix}\n",
    "\\lambda_2^2-1 & -\\rho_{12} & \\cdots & -\\rho_{1k}\\\\\n",
    "-\\rho_{21} & \\lambda_2^2-1 & \\cdots & -\\rho_{2k}\\\\\n",
    "\\vdots & \\vdots & \\ddots & \\vdots\\\\\n",
    "-\\rho_{k1} & -\\rho_{k2} & \\cdots & \\lambda_2^2-1\n",
    "\\end{pmatrix}\\cdot\n",
    "\\begin{pmatrix}\n",
    "v_{12}\\\\\n",
    "v_{22}\\\\\n",
    "\\vdots\\\\\n",
    "v_{k2}\n",
    "\\end{pmatrix}=\n",
    "\\begin{pmatrix}\n",
    "0\\\\\n",
    "0\\\\\n",
    "\\vdots\\\\\n",
    "0\n",
    "\\end{pmatrix}\n",
    "\\end{equation}\n",
    "$$"
   ]
  },
  {
   "cell_type": "markdown",
   "id": "d6275eca-dfa7-4540-af9c-23d715929186",
   "metadata": {},
   "source": [
    "de onde vem que:"
   ]
  },
  {
   "cell_type": "markdown",
   "id": "bec40b2a-6378-4147-831f-fb724779a51b",
   "metadata": {},
   "source": [
    "$$\n",
    "\\begin{equation}\\tag{10.19}\n",
    "\\left\\{\n",
    "\\begin{array}{c}\n",
    "(\\lambda_2^2-1)\\cdot v_{12}-\\rho_{12}\\cdot v_{22}\\cdots -\\rho_{1k}\\cdot v_{k2}=0\\\\\n",
    "-\\rho_{21}\\cdot v_{12}+(\\lambda_2^2-1)\\cdot v_{22}\\cdots -\\rho_{2k}\\cdot v_{k2}=0\\\\\n",
    "\\vdots\\\\\n",
    "-\\rho_{k1}\\cdot v_{12}-\\rho_{k2}\\cdot v_{22}+(\\lambda_2^2-1)\\cdot v_{k2}=0\n",
    "\\end{array}\n",
    "\\right.\n",
    "\\end{equation}\n",
    "$$"
   ]
  },
  {
   "cell_type": "markdown",
   "id": "b3f3f896-b28f-4932-984b-dd1bc144067b",
   "metadata": {},
   "source": [
    "#### Determinação de Autovetores $v_{1k}, v_{2k},\\ldots,v_{kk}$ a partir do Primeiro Autovalor ($\\lambda_k^2$):"
   ]
  },
  {
   "cell_type": "markdown",
   "id": "cae8e25e-2dd6-4347-a9e4-3b96aed53f31",
   "metadata": {},
   "source": [
    "$$\n",
    "\\begin{equation}\\tag{10.20}\n",
    "\\begin{pmatrix}\n",
    "\\lambda_k^2-1 & -\\rho_{12} & \\cdots & -\\rho_{1k}\\\\\n",
    "-\\rho_{21} & \\lambda_k^2-1 & \\cdots & -\\rho_{2k}\\\\\n",
    "\\vdots & \\vdots & \\ddots & \\vdots\\\\\n",
    "-\\rho_{k1} & -\\rho_{k2} & \\cdots & \\lambda_k^2-1\n",
    "\\end{pmatrix}\\cdot\n",
    "\\begin{pmatrix}\n",
    "v_{1k}\\\\\n",
    "v_{2k}\\\\\n",
    "\\vdots\\\\\n",
    "v_{kk}\n",
    "\\end{pmatrix}=\n",
    "\\begin{pmatrix}\n",
    "0\\\\\n",
    "0\\\\\n",
    "\\vdots\\\\\n",
    "0\n",
    "\\end{pmatrix}\n",
    "\\end{equation}\n",
    "$$"
   ]
  },
  {
   "cell_type": "markdown",
   "id": "745a036b-f755-454e-8f3f-cb6bb3c51b7c",
   "metadata": {},
   "source": [
    "de onde vem que:"
   ]
  },
  {
   "cell_type": "markdown",
   "id": "68c89c23-ff55-4554-b243-304a6fcc9bd4",
   "metadata": {},
   "source": [
    "$$\n",
    "\\begin{equation}\\tag{10.21}\n",
    "\\left\\{\n",
    "\\begin{array}{c}\n",
    "(\\lambda_k^2-1)\\cdot v_{1k}-\\rho_{12}\\cdot v_{2k}\\cdots -\\rho_{1k}\\cdot v_{k1}=0\\\\\n",
    "-\\rho_{21}\\cdot v_{1k}+(\\lambda_k^2-1)\\cdot v_{2k}\\cdots -\\rho_{2k}\\cdot v_{k1}=0\\\\\n",
    "\\vdots\\\\\n",
    "-\\rho_{k1}\\cdot v_{1k}-\\rho_{k2}\\cdot v_{2k}+(\\lambda_k^2-1)\\cdot v_{kk}=0\n",
    "\\end{array}\n",
    "\\right.\n",
    "\\end{equation}\n",
    "$$"
   ]
  },
  {
   "cell_type": "markdown",
   "id": "211ef2d1-be9f-43f2-82ee-5108c1f3b473",
   "metadata": {},
   "source": [
    "### *Scores* Fatoriais"
   ]
  },
  {
   "cell_type": "markdown",
   "id": "d323279c-ea58-45ba-833f-7a25b4ea2b01",
   "metadata": {},
   "source": [
    "Dessa forma, podemos calcular os *scores* fatoriais de cada fator com base na determinação dos autovalores e autovetores da matriz de correlações $\\rho$. Os vetores dos $scores$ fatoriais podem ser definidos da seguinte forma:"
   ]
  },
  {
   "cell_type": "markdown",
   "id": "98021502-01bd-4e30-8139-944ce1e832bd",
   "metadata": {},
   "source": [
    "#### *Scores* Fatoriais do Primeiro Fator:"
   ]
  },
  {
   "cell_type": "markdown",
   "id": "8d9936c2-3c3f-4267-8bf5-8d6e12a06511",
   "metadata": {},
   "source": [
    "$$\n",
    "\\begin{equation}\\tag{10.22}\n",
    "\\mathbf{S}_1=\\begin{pmatrix}\n",
    "s_{11}\\\\\n",
    "s_{21}\\\\\n",
    "\\vdots\\\\\n",
    "s_{k1}\n",
    "\\end{pmatrix}=\\begin{pmatrix}\n",
    "\\frac{v_{11}}{\\sqrt{\\lambda_1^2}}\\\\\n",
    "\\frac{v_{21}}{\\sqrt{\\lambda_1^2}}\\\\\n",
    "\\vdots\\\\\n",
    "\\frac{v_{k1}}{\\sqrt{\\lambda_1^2}}\n",
    "\\end{pmatrix}\n",
    "\\end{equation}\n",
    "$$"
   ]
  },
  {
   "cell_type": "markdown",
   "id": "dc373460-6952-48a4-8391-d92ba4ab5d91",
   "metadata": {},
   "source": [
    "#### *Scores* Fatoriais do Segundo Fator:"
   ]
  },
  {
   "cell_type": "markdown",
   "id": "8ed4f80e-3184-4372-889a-f9d78814d0a2",
   "metadata": {},
   "source": [
    "$$\n",
    "\\begin{equation}\\tag{10.23}\n",
    "\\mathbf{S}_2=\\begin{pmatrix}\n",
    "s_{12}\\\\\n",
    "s_{22}\\\\\n",
    "\\vdots\\\\\n",
    "s_{k2}\n",
    "\\end{pmatrix}=\\begin{pmatrix}\n",
    "\\frac{v_{12}}{\\sqrt{\\lambda_2^2}}\\\\\n",
    "\\frac{v_{22}}{\\sqrt{\\lambda_2^2}}\\\\\n",
    "\\vdots\\\\\n",
    "\\frac{v_{k2}}{\\sqrt{\\lambda_2^2}}\n",
    "\\end{pmatrix}\n",
    "\\end{equation}\n",
    "$$"
   ]
  },
  {
   "cell_type": "markdown",
   "id": "abda51d9-addf-4441-9deb-b87e894020ad",
   "metadata": {},
   "source": [
    "#### *Scores* Fatoriais do $k$-ésimo Fator:"
   ]
  },
  {
   "cell_type": "markdown",
   "id": "3db03b27-0a59-43d2-8279-2c9f90bfef83",
   "metadata": {},
   "source": [
    "$$\n",
    "\\begin{equation}\\tag{10.23}\n",
    "\\mathbf{S}_k=\\begin{pmatrix}\n",
    "s_{1k}\\\\\n",
    "s_{2k}\\\\\n",
    "\\vdots\\\\\n",
    "s_{kk}\n",
    "\\end{pmatrix}=\\begin{pmatrix}\n",
    "\\frac{v_{1k}}{\\sqrt{\\lambda_k^2}}\\\\\n",
    "\\frac{v_{2k}}{\\sqrt{\\lambda_k^2}}\\\\\n",
    "\\vdots\\\\\n",
    "\\frac{v_{kk}}{\\sqrt{\\lambda_k^2}}\n",
    "\\end{pmatrix}\n",
    "\\end{equation}\n",
    "$$"
   ]
  },
  {
   "cell_type": "markdown",
   "id": "b0defc69-060b-4261-84a0-e8f9333dd753",
   "metadata": {},
   "source": [
    "### Fatoriais"
   ]
  },
  {
   "cell_type": "markdown",
   "id": "907af6c1-9ac4-4b0c-b00f-3f555628ccd6",
   "metadata": {},
   "source": [
    "Como os *scores* fatoriais de cada fator são padronizados pelos respectivos autovalores, os fatores do conjunto de equações apresentado na expressão (10.0) devem ser obtidos pela multiplicação de cada *score* fatorial pela correspondente variável original, padronizada por meio do procedimento *Zscores*. Dessa forma, podemos obter cada um dos fatores com base nas seguintes equações:"
   ]
  },
  {
   "cell_type": "markdown",
   "id": "f72d7ed4-35d2-4eb3-acdd-92a81eeb6486",
   "metadata": {},
   "source": [
    "$$\n",
    "\\begin{equation}\n",
    "\\begin{array}{l}\n",
    "F_{1i}=\\frac{v_{11}}{\\sqrt{\\lambda_1^2}}\\cdot ZX_{1i}+\\frac{v_{21}}{\\sqrt{\\lambda_1^2}}\\cdot ZX_{2i}+\\cdots+\\frac{v_{k1}}{\\sqrt{\\lambda_1^2}}\\cdot ZX_{ki}\\\\\n",
    "F_{1i}=\\frac{v_{12}}{\\sqrt{\\lambda_2^2}}\\cdot ZX_{1i}+\\frac{v_{22}}{\\sqrt{\\lambda_2^2}}\\cdot ZX_{2i}+\\cdots+\\frac{v_{k2}}{\\sqrt{\\lambda_2^2}}\\cdot ZX_{ki}\\\\\n",
    "F_{1i}=\\frac{v_{1k}}{\\sqrt{\\lambda_k^2}}\\cdot ZX_{1i}+\\frac{v_{2k}}{\\sqrt{\\lambda_k^2}}\\cdot ZX_{2i}+\\cdots+\\frac{v_{kk}}{\\sqrt{\\lambda_k^2}}\\cdot ZX_{ki}\n",
    "\\end{array}\n",
    "\\end{equation}\n",
    "$$"
   ]
  },
  {
   "cell_type": "markdown",
   "id": "86e5ca16-a3c5-4dfa-a742-4f1c2390dfb5",
   "metadata": {},
   "source": [
    "em que $ZX_i$ representa o valor padronizado de cada variável $X$ para determinada observação $i$. Ressalta-se que todos os fatores extraídos apresentam, entre si, correlações de Pearson iguais a 0, ou seja, **são ortogonais entre si**."
   ]
  },
  {
   "cell_type": "markdown",
   "id": "fadd259c-c60d-4ea9-a0c9-3cf2fb23a3b3",
   "metadata": {},
   "source": [
    "#### Quantidade de Fatores a Serem Extraídos "
   ]
  },
  {
   "cell_type": "markdown",
   "id": "37b0743e-e12e-43af-8573-ad818f6a5c74",
   "metadata": {},
   "source": [
    "Embora o pesquisador tenha liberdade para definir, de forma preliminarm a quantidade de fatores a serem extraídos da análise, visto que pode ter a intenção de verificar, por exemplo, a validade de um constructo previamente estabelecido (procedimento conhecido por **critério *a priori***, é de fundalmental importância que seja feita uma análise bom base na magnitude dos autovalores calculados a partir da matriz de correlações $\\rho$."
   ]
  },
  {
   "cell_type": "markdown",
   "id": "923d8c2a-3b37-44de-8ad4-a6e72541857f",
   "metadata": {},
   "source": [
    "##### Relação Autovalores e Percentual de Variância"
   ]
  },
  {
   "cell_type": "markdown",
   "id": "af627d82-fa8b-4063-a415-a70ec9039c92",
   "metadata": {},
   "source": [
    "Como os autovalores correspondem ao percentual de variância compartilhada pelas variáveis originais para a formação de cada fator, como $\\lambda_1^2\\geq\\lambda_2^2\\geq\\ldots\\lambda_k^2$ e sabendo-se que os fatores $F_1,F_2,\\ldots,F_k$ são obtidos a partir dos respectivos autovalores, fatores extraídos a partir de autovalores menores são formados a partir de menores percentuais de variância compartilhada pelas variáveis originais. Visto que um fator representa determinado agrupamento de variáveis, fatores extraídos a partir de autovalores menores que 1 possivelmente não conseguem representar o comportamento de sequer uma variável original (claro que para a regra existem e exceções, que ocorrem para os casos em que determinado autovalor é menor mas muito próximo a 1)."
   ]
  },
  {
   "cell_type": "markdown",
   "id": "08d77813-46ff-42f2-a555-39f300503289",
   "metadata": {},
   "source": [
    "##### Conclusão sobre Quantidade de Fatores"
   ]
  },
  {
   "cell_type": "markdown",
   "id": "8885cf71-9eec-4a58-9c90-2b6b6b5d66ba",
   "metadata": {},
   "source": [
    "O critério de escolha da quantidade de fatores, em que são levados em consideração apenas os fatores correspondentes a autovalores maiores que 1, é comumente utilizado e conhecido por **critério da raiz latente** ou **critério de Kaiser**."
   ]
  },
  {
   "cell_type": "markdown",
   "id": "0233d8dc-0945-4205-917e-559f77feb3ef",
   "metadata": {},
   "source": [
    "#### Outros Métodos de Extração de Fatores"
   ]
  },
  {
   "cell_type": "markdown",
   "id": "28d99648-4289-41f9-88d3-a5f8a69d8238",
   "metadata": {},
   "source": [
    "O método para extração de fatores mais conhecido é o componentes principais, e o primeiro fator $F_1$, formado pelo maior percentual de variância compartilhada pelas variáveis originais, é também chamado de **fator principal**. Esse método é profundamente referenciado na literatura e utilizado na prática quando o pesquisador deseja elaborar uma redução estrutural dos dados para a criação de fatores ortogonais, definir *rankings* de observação por meio dos fatores gerados e até mesmo verificar a validade de constructos previamente estabelecidos. \n",
    "\n",
    "Outros métodos para extração dos fatores, como aqueles conhecidos por **mínimos quadrados generalizados**, **mínimos quadrados ponderados**, **máxima verossimilhança**, ***alpha factoring*** e ***image factoring***, apresentam diferentes critérios e determinadas particularidades."
   ]
  },
  {
   "cell_type": "markdown",
   "id": "624b185b-5b88-4862-b19c-fdf7e6efec81",
   "metadata": {},
   "source": [
    "## 10.2.4 Cargas fatoriais e comunalidades"
   ]
  },
  {
   "attachments": {
    "2f7dfa5b-5e4d-42a3-bcfe-630a9c4cb2c7.png": {
     "image/png": "[encoded data removed]"
    }
   },
   "cell_type": "markdown",
   "id": "9ed8549c-5a6a-44b2-b2ba-a9d5d0a1b401",
   "metadata": {},
   "source": [
    "Estabelecido os fatores, podemos definir as **cargas fatoriais**, que nada mais são que **correlações de Pearson entre as variáveis originais e cada um dos fatores**. A Tabela 10.2 apresenta as cargas fatoriais para cada par variável-fator.\n",
    "\n",
    "**Tabela 10.2** Cargas fatoriais entre variáveis originais e fatores.\n",
    "![image.png](attachment:2f7dfa5b-5e4d-42a3-bcfe-630a9c4cb2c7.png)"
   ]
  },
  {
   "cell_type": "markdown",
   "id": "e0035e08-ee7d-4ff8-8b96-4c0c08a2d47f",
   "metadata": {},
   "source": [
    "Com base no critério da raiz latente (em que são considerados apenas fatores oriundos de autovalores maiores que 1), é de se supor que as cargas fatoriais entre os fatores correspondentes a autovalores menores que 1 e todas as variáveis originais sejam baixas, visto que já terão apresentado correlações de Pearson (cargas) mais elevadas com fatores extraídos anteriormente a partir de autovalores maiores. Do mesmo modo, variáveis originais que compartilhem apenas uma pequena parcela de variância com as demais variáveis apresentarão cargas fatoriais elevadas apenas em um único fator. Caso isso ocorra para todas as variáveis originais, não existirão diferenças significativas entre a matriz de correlações $\\rho$ e a matriz identidade $\\mathbf{I}$, tornando a estatística $\\chi_{\\text{Bartlett}}^2$ muito baixa. Esse fato permite afirmar que a análise fatorial será inapropriada, e, nessa situação, o pesquisador poderá optar por não extrair fatores a partir das variáveis originais."
   ]
  },
  {
   "cell_type": "markdown",
   "id": "b78a13c5-01b9-4b02-9fa3-f907fdf0601a",
   "metadata": {},
   "source": [
    "Como as cargas fatoriais são as correlações de Pearson entre cada variável e cada fator, a somatória dos quadrados dessas cargas será sempre igual a 1, visto que cada variável compartilha parte do seu percentual de variância com todos os $k$ fatores, e a somatória dos percentuais de variância (cargas fatoriais ou correlações de Pearson ao quadrado) será 100%."
   ]
  },
  {
   "cell_type": "markdown",
   "id": "6e677043-a0f6-4a12-9e4c-836c151512ff",
   "metadata": {},
   "source": [
    "### Comunalidades"
   ]
  },
  {
   "cell_type": "markdown",
   "id": "d30595c3-5795-4354-8353-1fcc7666aae3",
   "metadata": {},
   "source": [
    "Por outro lado, caso seja extraída uma quantidade de fatores menor que $k$, em função do critério da raiz latente, a somatória dos quadrados das cargas fatoriais em cada linha não chegará a ser igual a 1. A essa somatória, dá-se o nome de **comunalidade**, que representa a **variância total compartilhada de cada variável em todos os fatores extraídos a partir de autovalores maiores que 1**. Logo, podemos escrever que:"
   ]
  },
  {
   "cell_type": "markdown",
   "id": "03e73ee5-c5c3-4693-a531-f2334ac00bcb",
   "metadata": {},
   "source": [
    "$$\n",
    "\\begin{equation}\\tag{10.29}\n",
    "\\begin{array}{c}\n",
    "c_{11}^2+c_{12}^2+\\ldots=\\text{comunalidade }X_1\\\\\n",
    "c_{21}^2+c_{22}^2+\\ldots=\\text{comunalidade }X_2\\\\\n",
    "\\vdots\\\\\n",
    "c_{k1}^2+c_{k2}^2+\\ldots=\\text{comunalidade }X_k\n",
    "\\end{array}\n",
    "\\end{equation}\n",
    "$$"
   ]
  },
  {
   "cell_type": "markdown",
   "id": "6590f112-2194-4e8f-9749-d8313d3cd2ad",
   "metadata": {},
   "source": [
    "O objetivo principal da análise das comunalidades é verificar se alguma variável acaba por não compartilhar um significativo percentual de variância com os fatores extraídos. Embora não haja um ponto de corte a partir do qual determinada comunalidade possa ser considerada alta ou baixa, visto que o tamanho da amostra pode interferir nesse julgamento, a existência de comunalidades consideravelmente baixas em relação às demais pode sugerir que o pesquisador reconsidere a inclusão da respectiva variável na análise fatorial."
   ]
  },
  {
   "cell_type": "markdown",
   "id": "b47dfc5f-3b57-4e74-adc5-d63e22bd90a3",
   "metadata": {},
   "source": [
    "Logo definidos os fatoers com base nos *scores* fatoriais, podemos afirmar que as cargas fatoriais serão exatamente iguais aos parâmetros estimados de um modelo de regressão linear múltipla que apresenta, como variável dependente, determinada variável padronizada $ZX$ e, como variáveis explicativas, os próprios fatores, sendo o **coeficiente de ajuste $\\mathbf{R}^2$** de cada modelo igual à própria comunalidade da respectiva variável original."
   ]
  },
  {
   "cell_type": "markdown",
   "id": "95713d0d-a39c-46ad-8bc0-22c65f839c21",
   "metadata": {},
   "source": [
    "A somatória dos quadrados das cargas fatoriais em cada coluna da Tabela 10.2, por outro lado, será igual ao respectivo autovalor, visto que a razão entre cada autovalor e a quantidade total de variáveis pode ser entendida como o percentual de variância compartilhada por todas as $k$ variáveis originais para a formação de cada fator.\n",
    "\n",
    "Logo, podemos escrever que:"
   ]
  },
  {
   "cell_type": "markdown",
   "id": "45ee0710-2e1e-478e-83a6-c3fc38bee33c",
   "metadata": {},
   "source": [
    "$$\n",
    "\\begin{equation}\\tag{10.30}\n",
    "\\begin{array}{c}\n",
    "c_{11}^2+c_{21}^2+\\ldots+c_{k1}^2=\\lambda_1^2\\\\\n",
    "c_{12}^2+c_{22}^2+\\ldots+c_{k2}^2=\\lambda_2^2\\\\\n",
    "\\vdots\\\\\n",
    "c_{1k}^2+c_{2k}^2+\\ldots+c_{kk}^2=\\lambda_k^2\n",
    "\\end{array}\n",
    "\\end{equation}\n",
    "$$"
   ]
  },
  {
   "cell_type": "markdown",
   "id": "678c55dc-91dc-4aa7-9d78-233a74281e4f",
   "metadata": {},
   "source": [
    "Após a determinação dos fatores e do cálculo das cargas fatoriais, é possível ainda que algumas variáveis apresentem correlações de Pearson (cargas fatoriais) intermediárias (nem tão altas, nem tão baixas) com todos os fatores extraídos, embora sua comunalidade não seja relativamente tão baixa. Nesse caso, embora a solução da análise faotiral já tenha sido obtida de forma adequada e considerada finalizda, o pesquisador pode, para os casos em que a tabela de cargas fatoriais apresentar valores intermediários para uma ou mais variáveis em todos os fatores, elaborar uma rotação desses fatores, a fim de que sejam aumentadas as correlaçãos de Pearson entre as variáveis originais e novos fatores gerados."
   ]
  },
  {
   "cell_type": "markdown",
   "id": "0cb6173e-972d-4bb6-95f0-421633652259",
   "metadata": {},
   "source": [
    "## 10.2.5 Rotação de fatores"
   ]
  },
  {
   "attachments": {
    "d7ca7f55-36d9-4226-9326-a3eb86e0f09f.png": {
     "image/png": "[encoded data removed]"
    }
   },
   "cell_type": "markdown",
   "id": "d8ee8a88-eafe-4877-9661-d7a8e24489a0",
   "metadata": {},
   "source": [
    "Imaginemos novamente uma situação hipotética em que determinado banco de dados apresenta apenas três variáveis $(k=3)$. Após a elaboração da análise fatorial por componentes principais, são extraídos dois fatores, ortogonais entre si, com cargas fatoriais (correlações de Pearson) com cada uma das três variáveis originais, de acordo com a Tabela 10.3.\n",
    "\n",
    "**Tabela 10.3** Cargas fatoriais entre três variáveis e dois fatores.\n",
    "\n",
    "![image.png](attachment:d7ca7f55-36d9-4226-9326-a3eb86e0f09f.png)"
   ]
  },
  {
   "attachments": {
    "b06548d1-a2fd-4096-b2c1-33fe3ef567ec.png": {
     "image/png": "[encoded data removed]"
    }
   },
   "cell_type": "markdown",
   "id": "24873578-6ae3-41b2-b8ea-f0e8dd8ccf90",
   "metadata": {},
   "source": [
    "A fim de que possa ser elaborado um gráfico com as posições relativas de cada variável em cada fator (gráfico conhecido como ***loading plot***), podemos considerar as cargas fatoriais coordenadas (abcissas e ordenadas) das variáveis em um plano cartensiano formado pelos dois fatores ortogonais. Esse gráfico encontra-se, de maneira exemplificada, na Figura 10.5.\n",
    "\n",
    "![image.png](attachment:b06548d1-a2fd-4096-b2c1-33fe3ef567ec.png)\n",
    "\n",
    "**Figura 10.5** *Loading plot* para situação hipotética com três variáveis e dois fatores."
   ]
  },
  {
   "attachments": {
    "41fc56fc-abc3-4656-a4a8-05caa7c71479.png": {
     "image/png": "[encoded data removed]"
    }
   },
   "cell_type": "markdown",
   "id": "318a4c30-9df6-4699-9ec1-cc7b1d24f854",
   "metadata": {},
   "source": [
    "Para que tenhamos melhor visualização das variáveis mais representadas por determinado fator, podemos pensar em uma rotação, em torno da origem, dos fatores originalmente extraídos $F_1$ e $F_2$, de modo a aproximar os pontos correspondentes às variáveis $X_1$, $X_2$ e $X_3$ de um dos novos fatores, chamados de **fatores rotacionados** $F'_1$ e $F'_2$. A Figura 10.6 apresenta essa situação de forma exemplificada.\n",
    "\n",
    "![image.png](attachment:41fc56fc-abc3-4656-a4a8-05caa7c71479.png)\n",
    "\n",
    "**Figura 10.6** Definição dos fatores rotacionados a partir dos fatores originais."
   ]
  },
  {
   "attachments": {
    "9417d8ed-fa57-4fc6-bbc4-bae4f5f3387d.png": {
     "image/png": "[encoded data removed]"
    }
   },
   "cell_type": "markdown",
   "id": "aac5fc1d-96bd-4274-a78c-38fd37eaad8f",
   "metadata": {},
   "source": [
    "Com base na Figura 10.6, podemos verificar, para cada variável em análise, que, enquanto a carga para um fator é aumentada, para o outro, é diminuída. A Tabela 10.4 mostra a redistribuição de cargas para nossa situação hipotética.\n",
    "\n",
    "**Tabela 10.4** Cargas fatoriais originais e rotacionadas para a nossa situação hipotética.\n",
    "\n",
    "![image.png](attachment:9417d8ed-fa57-4fc6-bbc4-bae4f5f3387d.png)"
   ]
  },
  {
   "cell_type": "markdown",
   "id": "ec431af6-8791-479f-ac2d-19b2801bebe2",
   "metadata": {},
   "source": [
    "Logo, para uma situação genérica, podemos afirmar que a rotação é um procedimento que maximiza as cargas de cada variável em determinado fator, em detrimento dos demais. Nesse sentido, o efeito final da rotação é a redistribuição das cargas fatoriais para fatores que inicialmente apresentavam menores percentuais de variância compartilhada por todas as variáveis originais. O objetivo principal é minimizar a quantidade de variáveis com altas cargas em determinado fator, já que cada um dos fatores passará a ter cargas mais expressivas somente com algumas das variáveis originais. Consequentemente, a rotação pode simplificar a interpretação dos fatores."
   ]
  },
  {
   "cell_type": "markdown",
   "id": "34bd653d-9b6c-4d5f-b0bb-d5e0cac18904",
   "metadata": {},
   "source": [
    "Embora as comunalidades e o percentual total de variância compartilhada por todas as variáveis em todos os fatores não sejam alterados com a rotação (tampouco as estatísticas KMO e $\\chi_{\\text{Bartlett}}^2$, o percentual de variância compartilhada pelas variáveis originais em cada fator é redistribuiído e, portanto, alterado. Em outras palavras, são determinados novos autovalores $\\lambda'\\ (\\lambda'_1,\\lambda'_2,\\ldots,\\lambda'_k)$ a partir das **cargas fatoriais rotacionadas**. Assim, podemos escrever que: "
   ]
  },
  {
   "cell_type": "markdown",
   "id": "88982cc8-791c-496c-a35c-ae4882479d23",
   "metadata": {},
   "source": [
    "$$\n",
    "\\begin{equation}\\tag{10.31}\n",
    "\\begin{array}{l}\n",
    "c_{11}^{'2} + c_{12}^{'2} + \\ldots = \\text{comunalidade } X_1 \\\\\n",
    "c_{21}^{'2} + c_{22}^{'2} + \\ldots = \\text{comunalidade } X_2 \\\\\n",
    "\\vdots \\\\\n",
    "c_{k1}^{'2} + c_{k2}^{'2} + \\ldots = \\text{comunalidade } X_k\n",
    "\\end{array}\n",
    "\\end{equation}\n",
    "$$"
   ]
  },
  {
   "cell_type": "markdown",
   "id": "c9fbbaf1-2ff3-465c-be89-eb2cf98d8e23",
   "metadata": {},
   "source": [
    "e que:"
   ]
  },
  {
   "cell_type": "markdown",
   "id": "e39b8a70-5527-4310-920d-1dfa37292d91",
   "metadata": {},
   "source": [
    "$$\n",
    "\\begin{equation}\\tag{10.32}\n",
    "\\begin{array}{c}\n",
    "c_{11}^{'2}+c_{21}^{'2}+\\ldots+c_{k1}^{'2}=\\lambda_1^{'2}\\neq\\lambda_1^2\\\\\n",
    "c_{12}^{'2}+c_{22}^{'2}+\\ldots+c_{k2}^{'2}=\\lambda_2^{'2}\\neq\\lambda_2^2\\\\\n",
    "\\vdots\\\\\n",
    "c_{1k}^{'2}+c_{2k}^{'2}+\\ldots+c_{kk}^{'2}=\\lambda_k^{'2}\\neq\\lambda_k^2\n",
    "\\end{array}\n",
    "\\end{equation}\n",
    "$$"
   ]
  },
  {
   "cell_type": "markdown",
   "id": "c563ac94-36b9-4289-8fd7-f7adc192b38d",
   "metadata": {},
   "source": [
    "mesmo sendo respeitada a expressão (10.13), ou seja:"
   ]
  },
  {
   "cell_type": "markdown",
   "id": "a6c59c94-c62f-43bf-9f2d-275220507303",
   "metadata": {},
   "source": [
    "$$\n",
    "\\begin{equation}\\tag{10.33}\n",
    "\\lambda_1^2+\\lambda_2^2+\\ldots+\\lambda_k^2=\\lambda_1^{'2}+\\lambda_2^{'2}+\\ldots+\\lambda_k^{'2}=k\n",
    "\\end{equation}\n",
    "$$"
   ]
  },
  {
   "cell_type": "markdown",
   "id": "7c5af2b4-d7ef-42c0-8104-1aa039aab01e",
   "metadata": {},
   "source": [
    "Além disso, a partir da rotação dos fatores, são obtidos novos ***scores* fatoriais rotacionados**, $s'$, de modo que as expressões finais dos fatores rotacionados serão:"
   ]
  },
  {
   "cell_type": "markdown",
   "id": "d8796459-2981-4c1a-a40b-c70f89562b08",
   "metadata": {},
   "source": [
    "$$\n",
    "\\begin{equation}\\tag{10.34}\n",
    "\\begin{array}{c}\n",
    "F'_{1i}=s'_{11}\\cdot X_{1i}+s'_{21}\\cdot X_{2i}+\\cdots+s'_{k1}\\cdot X_{ki}\\\\\n",
    "F'_{2i}=s'_{12}\\cdot X_{1i}+s'_{22}\\cdot X_{2i}+\\cdots+s'_{k2}\\cdot X_{ki}\\\\\n",
    "\\vdots\\\\\n",
    "F'_{ki}=s'_{1k}\\cdot X_{1i}+s'_{2k}\\cdot X_{2i}+\\cdots+s'_{kk}\\cdot X_{ki}\n",
    "\\end{array}\n",
    "\\end{equation}\n",
    "$$"
   ]
  },
  {
   "cell_type": "markdown",
   "id": "33f596af-0368-4ec4-bdae-32565a368ada",
   "metadata": {},
   "source": [
    "É importante ressaltar que a adequação global da análise fatorial (estatística KMO e teste de esfericidade de Bartlett) não é alterada com a rotação, já que a matriz de correlações $\\rho$ continua a mesma."
   ]
  },
  {
   "cell_type": "markdown",
   "id": "f34a9a64-6cb9-488f-90dd-88cef1748915",
   "metadata": {},
   "source": [
    "Embora existam diversos métodos de rotação fatorial, o mais utilizado é o **método de rotação ortogonal** conhecido por **Varimax**, cuja principal finalidade é minimizar a quantidade de variáveis que apresentam elevadas cargas em determinado fator por meio da redistribuição das cargas fatoriais e maximização da variância compartilhada em fatores correspondentes a autovalores mais baixos. Daí decorre a nomenclatura Varimax, proposta por Kaiser (1958)."
   ]
  },
  {
   "cell_type": "markdown",
   "id": "1f1b3450-a9a6-4352-8064-aaf7debe959b",
   "metadata": {},
   "source": [
    "O algoritmo por trás do método de rotação Varimax consiste em determinar um ângulo de rotação $\\theta$ em que pares de fatores são rotacionados igualmente. Logo, conforme discute Harman (1968), para determinado par de fatores $F_1$ e $F_2$, por exemplo, as cargas fatoriais rotacionadas $c'$ entre os dois fatores e as $k$ variáveis originais são obtidas a partir das cargas fatoriais originais $c$, por meio da seguinte multiplicação matricial:"
   ]
  },
  {
   "cell_type": "markdown",
   "id": "3a0b0d06-c683-4b24-8183-630398b45eda",
   "metadata": {},
   "source": [
    "$$\n",
    "\\begin{equation}\\tag{10.35}\n",
    "\\begin{pmatrix}\n",
    "c_{11} & c_{12}\\\\\n",
    "c_{21} & c_{22}\\\\\n",
    "\\vdots & \\vdots\\\\\n",
    "c_{k1} & c_{k2}\n",
    "\\end{pmatrix}\\cdot\n",
    "\\begin{pmatrix}\n",
    "\\cos\\theta & -\\sin\\theta\\\\\n",
    "\\sin\\theta & \\cos\\theta\n",
    "\\end{pmatrix}=\n",
    "\\begin{pmatrix}\n",
    "c'_{11} & c'_{12}\\\\\n",
    "c'_{21} & c'_{22}\\\\\n",
    "\\vdots & \\vdots\\\\\n",
    "c'_{k1} & c'_{k2}\n",
    "\\end{pmatrix}\n",
    "\\end{equation}\n",
    "$$"
   ]
  },
  {
   "cell_type": "markdown",
   "id": "84d84f6b-ddfc-48aa-90d0-388d41b8d7f0",
   "metadata": {},
   "source": [
    "em que $\\theta$, ângulo de rotação no sentido anti-horário, é obtido pela seguinte expressão:"
   ]
  },
  {
   "cell_type": "markdown",
   "id": "4a7503df-dbd5-4aaf-a8cc-a3985d830151",
   "metadata": {},
   "source": [
    "$$\n",
    "\\begin{equation}\\tag{10.36}\n",
    "\\theta=0,25\\cdot\\arctan\\left[\\frac{2\\cdot(D\\cdot k-A\\cdot B)}{C\\cdot k-(A^2-B^2)}\\right]\n",
    "\\end{equation}\n",
    "$$"
   ]
  },
  {
   "cell_type": "markdown",
   "id": "d46d2831-fdde-4527-9413-aaeedb13ebfb",
   "metadata": {},
   "source": [
    "sendo:"
   ]
  },
  {
   "cell_type": "markdown",
   "id": "6a5be771-ee81-46cc-a2ad-a2efa04b9457",
   "metadata": {},
   "source": [
    "$$\n",
    "\\begin{equation}\\tag{10.37}\n",
    "A=\\sum\\limits_{l=1}^{k}\\left(\\frac{c_{1l}^2}{\\text{comunalidade}_l}-\\frac{c_{2l}^2}{\\text{comunalidade}_l}\\right)\n",
    "\\end{equation}\n",
    "$$"
   ]
  },
  {
   "cell_type": "markdown",
   "id": "c0305426-d755-42b9-99e5-3eabf1d9654c",
   "metadata": {},
   "source": [
    "$$\n",
    "\\begin{equation}\\tag{10.38}\n",
    "B=\\sum\\limits_{l=1}^{k}\\left(2\\cdot\\frac{c_{1l}\\cdot c_{2l}}{\\text{comunalidade}_l}\\right)\n",
    "\\end{equation}\n",
    "$$"
   ]
  },
  {
   "cell_type": "markdown",
   "id": "ba32cbd9-3fb7-4515-aeea-ba82b162829f",
   "metadata": {},
   "source": [
    "$$\n",
    "\\begin{equation}\\tag{10.39}\n",
    "C=\\sum\\limits_{l=1}^{k}\\left[\\left(\\frac{c_{1l}^2}{\\text{comunalidade}_l}-\\frac{c_{2l}^2}{\\text{comunalidade}_l}\\right)^2-\\left(2\\cdot\\frac{c_{1l}\\cdot c_{2l}}{\\text{comunalidade}_l}\\right)^2\\right]\n",
    "\\end{equation}\n",
    "$$"
   ]
  },
  {
   "cell_type": "markdown",
   "id": "9fa940d3-eb87-42b6-aa0d-f8e032f36459",
   "metadata": {},
   "source": [
    "$$\n",
    "\\begin{equation}\\tag{10.40}\n",
    "D=\\sum\\limits_{l=1}^{k}\\left[\\left(\\frac{c_{1l}^2}{\\text{comunalidade}_l}-\\frac{c_{2l}^2}{\\text{comunalidade}_l}\\right)^2-\\left(2\\cdot\\frac{c_{1l}\\cdot c_{2l}}{\\text{comunalidade}_l}\\right)\\right]\n",
    "\\end{equation}\n",
    "$$"
   ]
  },
  {
   "cell_type": "markdown",
   "id": "655ec134-629a-486e-a4ac-301a524fe593",
   "metadata": {},
   "source": [
    "Na seção 10.2.6, faremos uso dessas expressões do método de rotação Varimax para determinar as cargas fatoriais rotacionadas a partir das cargas originais."
   ]
  },
  {
   "cell_type": "markdown",
   "id": "b4f0fa71-eb9f-4fff-b065-08ee63a4bba0",
   "metadata": {},
   "source": [
    "Além da rotação Varimax, outros métodos de rotação ortogonal também podem ser mencionados, como o **Quartimax** e o **Equimax**, embora sejam menos referenciados na literatura e utilizados com menor intensidade na prática. Além deles, o pesquisador ainda pode fazer uso de **métodos de rotação oblíqua**, em que são gerados fatores não ortogonais. Embora não tenham sido abordados, merecem menção nesta categoria os chamados **Direct Oblimin** e **Promax**."
   ]
  },
  {
   "cell_type": "markdown",
   "id": "a75ff832-e2e8-46c6-bc52-96237de76f1f",
   "metadata": {},
   "source": [
    "Como os métodos de rotação oblíqua podem, por vezes, ser utilizados quando se deseja validar determinado constructo, cujos fatores iniciais sejam não correlacionados, recomenda-se que um método de rotação ortogonal seja utilizado para uso subsquente dos fatores extraídos em outras técnicas multivariadas, como determinados modelos confirmatórios em que é exigida a premissa de ausência de multicolinearidade de variáveis explicativas."
   ]
  },
  {
   "cell_type": "markdown",
   "id": "ed9233e0-9e56-4860-b4a7-0407f4e0a6d7",
   "metadata": {},
   "source": [
    "## 10.2.6. Exemplo prático de análise fatorial por componentes principais"
   ]
  },
  {
   "cell_type": "markdown",
   "id": "5821b6d5-e3bf-4384-b8df-722d0285e65f",
   "metadata": {},
   "source": [
    "Imagine que nosso mesmo professor, bastante engajado com atividades acadêmicas e didáticas, tenha agora o interesse em estudar como se comportam as notas de seus alunos para, em sequência, propor um *ranking* de desempenho escolar."
   ]
  },
  {
   "cell_type": "markdown",
   "id": "c4be7e0c-3ca5-409d-9f6b-08e60a285ae0",
   "metadata": {},
   "source": [
    "Para tanto, ele fez um levantamento sobre as notas finais, que variam de 0 a 10, de cada um dos seus 100 alunos nas disciplinas de Finanças, Custos, Marketing e Atuária."
   ]
  },
  {
   "cell_type": "markdown",
   "id": "2a5cdc1a-92c6-45b5-a5b7-3ef6ea7147e8",
   "metadata": {},
   "source": [
    "### 10.2.6.1. Importando os pacotes necessários"
   ]
  },
  {
   "cell_type": "code",
   "execution_count": 388,
   "id": "0756061b-4c44-4161-acc5-1fe74b3397b8",
   "metadata": {},
   "outputs": [
    {
     "name": "stdout",
     "output_type": "stream",
     "text": [
      "Requirement already satisfied: pandas in c:\\users\\diasr\\anaconda3\\lib\\site-packages (2.1.4)\n",
      "Requirement already satisfied: numpy<2,>=1.23.2 in c:\\users\\diasr\\anaconda3\\lib\\site-packages (from pandas) (1.26.4)\n",
      "Requirement already satisfied: python-dateutil>=2.8.2 in c:\\users\\diasr\\anaconda3\\lib\\site-packages (from pandas) (2.8.2)\n",
      "Requirement already satisfied: pytz>=2020.1 in c:\\users\\diasr\\anaconda3\\lib\\site-packages (from pandas) (2023.3.post1)\n",
      "Requirement already satisfied: tzdata>=2022.1 in c:\\users\\diasr\\anaconda3\\lib\\site-packages (from pandas) (2023.3)\n",
      "Requirement already satisfied: six>=1.5 in c:\\users\\diasr\\anaconda3\\lib\\site-packages (from python-dateutil>=2.8.2->pandas) (1.16.0)\n"
     ]
    },
    {
     "name": "stderr",
     "output_type": "stream",
     "text": [
      "WARNING: Skipping C:\\Users\\diasr\\anaconda3\\Lib\\site-packages\\jupyter_highlight_selected_word-0.2.0.dist-info due to invalid metadata entry 'name'\n",
      "WARNING: Skipping C:\\Users\\diasr\\anaconda3\\Lib\\site-packages\\jupyter_highlight_selected_word-0.2.0.dist-info due to invalid metadata entry 'name'\n",
      "WARNING: Skipping C:\\Users\\diasr\\anaconda3\\Lib\\site-packages\\jupyter_highlight_selected_word-0.2.0.dist-info due to invalid metadata entry 'name'\n",
      "WARNING: Skipping C:\\Users\\diasr\\anaconda3\\Lib\\site-packages\\jupyter_highlight_selected_word-0.2.0.dist-info due to invalid metadata entry 'name'\n",
      "WARNING: Skipping C:\\Users\\diasr\\anaconda3\\Lib\\site-packages\\jupyter_highlight_selected_word-0.2.0.dist-info due to invalid metadata entry 'name'\n",
      "WARNING: Skipping C:\\Users\\diasr\\anaconda3\\Lib\\site-packages\\jupyter_highlight_selected_word-0.2.0.dist-info due to invalid metadata entry 'name'\n"
     ]
    },
    {
     "name": "stdout",
     "output_type": "stream",
     "text": [
      "Requirement already satisfied: numpy in c:\\users\\diasr\\anaconda3\\lib\\site-packages (1.26.4)\n"
     ]
    },
    {
     "name": "stderr",
     "output_type": "stream",
     "text": [
      "WARNING: Skipping C:\\Users\\diasr\\anaconda3\\Lib\\site-packages\\jupyter_highlight_selected_word-0.2.0.dist-info due to invalid metadata entry 'name'\n",
      "WARNING: Skipping C:\\Users\\diasr\\anaconda3\\Lib\\site-packages\\jupyter_highlight_selected_word-0.2.0.dist-info due to invalid metadata entry 'name'\n",
      "WARNING: Skipping C:\\Users\\diasr\\anaconda3\\Lib\\site-packages\\jupyter_highlight_selected_word-0.2.0.dist-info due to invalid metadata entry 'name'\n",
      "WARNING: Skipping C:\\Users\\diasr\\anaconda3\\Lib\\site-packages\\jupyter_highlight_selected_word-0.2.0.dist-info due to invalid metadata entry 'name'\n",
      "WARNING: Skipping C:\\Users\\diasr\\anaconda3\\Lib\\site-packages\\jupyter_highlight_selected_word-0.2.0.dist-info due to invalid metadata entry 'name'\n",
      "WARNING: Skipping C:\\Users\\diasr\\anaconda3\\Lib\\site-packages\\jupyter_highlight_selected_word-0.2.0.dist-info due to invalid metadata entry 'name'\n"
     ]
    },
    {
     "name": "stdout",
     "output_type": "stream",
     "text": [
      "Requirement already satisfied: factor_analyzer in c:\\users\\diasr\\anaconda3\\lib\\site-packages (0.5.1)\n",
      "Requirement already satisfied: pandas in c:\\users\\diasr\\anaconda3\\lib\\site-packages (from factor_analyzer) (2.1.4)\n",
      "Requirement already satisfied: scipy in c:\\users\\diasr\\anaconda3\\lib\\site-packages (from factor_analyzer) (1.11.4)\n",
      "Requirement already satisfied: numpy in c:\\users\\diasr\\anaconda3\\lib\\site-packages (from factor_analyzer) (1.26.4)\n",
      "Requirement already satisfied: scikit-learn in c:\\users\\diasr\\anaconda3\\lib\\site-packages (from factor_analyzer) (1.2.2)\n",
      "Requirement already satisfied: python-dateutil>=2.8.2 in c:\\users\\diasr\\anaconda3\\lib\\site-packages (from pandas->factor_analyzer) (2.8.2)\n",
      "Requirement already satisfied: pytz>=2020.1 in c:\\users\\diasr\\anaconda3\\lib\\site-packages (from pandas->factor_analyzer) (2023.3.post1)\n",
      "Requirement already satisfied: tzdata>=2022.1 in c:\\users\\diasr\\anaconda3\\lib\\site-packages (from pandas->factor_analyzer) (2023.3)\n",
      "Requirement already satisfied: joblib>=1.1.1 in c:\\users\\diasr\\anaconda3\\lib\\site-packages (from scikit-learn->factor_analyzer) (1.2.0)\n",
      "Requirement already satisfied: threadpoolctl>=2.0.0 in c:\\users\\diasr\\anaconda3\\lib\\site-packages (from scikit-learn->factor_analyzer) (2.2.0)\n",
      "Requirement already satisfied: six>=1.5 in c:\\users\\diasr\\anaconda3\\lib\\site-packages (from python-dateutil>=2.8.2->pandas->factor_analyzer) (1.16.0)\n"
     ]
    },
    {
     "name": "stderr",
     "output_type": "stream",
     "text": [
      "WARNING: Skipping C:\\Users\\diasr\\anaconda3\\Lib\\site-packages\\jupyter_highlight_selected_word-0.2.0.dist-info due to invalid metadata entry 'name'\n",
      "WARNING: Skipping C:\\Users\\diasr\\anaconda3\\Lib\\site-packages\\jupyter_highlight_selected_word-0.2.0.dist-info due to invalid metadata entry 'name'\n",
      "WARNING: Skipping C:\\Users\\diasr\\anaconda3\\Lib\\site-packages\\jupyter_highlight_selected_word-0.2.0.dist-info due to invalid metadata entry 'name'\n",
      "WARNING: Skipping C:\\Users\\diasr\\anaconda3\\Lib\\site-packages\\jupyter_highlight_selected_word-0.2.0.dist-info due to invalid metadata entry 'name'\n",
      "WARNING: Skipping C:\\Users\\diasr\\anaconda3\\Lib\\site-packages\\jupyter_highlight_selected_word-0.2.0.dist-info due to invalid metadata entry 'name'\n",
      "WARNING: Skipping C:\\Users\\diasr\\anaconda3\\Lib\\site-packages\\jupyter_highlight_selected_word-0.2.0.dist-info due to invalid metadata entry 'name'\n"
     ]
    },
    {
     "name": "stdout",
     "output_type": "stream",
     "text": [
      "Requirement already satisfied: sympy in c:\\users\\diasr\\anaconda3\\lib\\site-packages (1.12)\n",
      "Requirement already satisfied: mpmath>=0.19 in c:\\users\\diasr\\anaconda3\\lib\\site-packages (from sympy) (1.3.0)\n"
     ]
    },
    {
     "name": "stderr",
     "output_type": "stream",
     "text": [
      "WARNING: Skipping C:\\Users\\diasr\\anaconda3\\Lib\\site-packages\\jupyter_highlight_selected_word-0.2.0.dist-info due to invalid metadata entry 'name'\n",
      "WARNING: Skipping C:\\Users\\diasr\\anaconda3\\Lib\\site-packages\\jupyter_highlight_selected_word-0.2.0.dist-info due to invalid metadata entry 'name'\n",
      "WARNING: Skipping C:\\Users\\diasr\\anaconda3\\Lib\\site-packages\\jupyter_highlight_selected_word-0.2.0.dist-info due to invalid metadata entry 'name'\n",
      "WARNING: Skipping C:\\Users\\diasr\\anaconda3\\Lib\\site-packages\\jupyter_highlight_selected_word-0.2.0.dist-info due to invalid metadata entry 'name'\n",
      "WARNING: Skipping C:\\Users\\diasr\\anaconda3\\Lib\\site-packages\\jupyter_highlight_selected_word-0.2.0.dist-info due to invalid metadata entry 'name'\n",
      "WARNING: Skipping C:\\Users\\diasr\\anaconda3\\Lib\\site-packages\\jupyter_highlight_selected_word-0.2.0.dist-info due to invalid metadata entry 'name'\n"
     ]
    },
    {
     "name": "stdout",
     "output_type": "stream",
     "text": [
      "Requirement already satisfied: scipy in c:\\users\\diasr\\anaconda3\\lib\\site-packages (1.11.4)\n",
      "Requirement already satisfied: numpy<1.28.0,>=1.21.6 in c:\\users\\diasr\\anaconda3\\lib\\site-packages (from scipy) (1.26.4)\n"
     ]
    },
    {
     "name": "stderr",
     "output_type": "stream",
     "text": [
      "WARNING: Skipping C:\\Users\\diasr\\anaconda3\\Lib\\site-packages\\jupyter_highlight_selected_word-0.2.0.dist-info due to invalid metadata entry 'name'\n",
      "WARNING: Skipping C:\\Users\\diasr\\anaconda3\\Lib\\site-packages\\jupyter_highlight_selected_word-0.2.0.dist-info due to invalid metadata entry 'name'\n",
      "WARNING: Skipping C:\\Users\\diasr\\anaconda3\\Lib\\site-packages\\jupyter_highlight_selected_word-0.2.0.dist-info due to invalid metadata entry 'name'\n",
      "WARNING: Skipping C:\\Users\\diasr\\anaconda3\\Lib\\site-packages\\jupyter_highlight_selected_word-0.2.0.dist-info due to invalid metadata entry 'name'\n",
      "WARNING: Skipping C:\\Users\\diasr\\anaconda3\\Lib\\site-packages\\jupyter_highlight_selected_word-0.2.0.dist-info due to invalid metadata entry 'name'\n",
      "WARNING: Skipping C:\\Users\\diasr\\anaconda3\\Lib\\site-packages\\jupyter_highlight_selected_word-0.2.0.dist-info due to invalid metadata entry 'name'\n"
     ]
    },
    {
     "name": "stdout",
     "output_type": "stream",
     "text": [
      "Requirement already satisfied: matplotlib in c:\\users\\diasr\\anaconda3\\lib\\site-packages (3.8.0)\n",
      "Requirement already satisfied: contourpy>=1.0.1 in c:\\users\\diasr\\anaconda3\\lib\\site-packages (from matplotlib) (1.2.0)\n",
      "Requirement already satisfied: cycler>=0.10 in c:\\users\\diasr\\anaconda3\\lib\\site-packages (from matplotlib) (0.11.0)\n",
      "Requirement already satisfied: fonttools>=4.22.0 in c:\\users\\diasr\\anaconda3\\lib\\site-packages (from matplotlib) (4.25.0)\n",
      "Requirement already satisfied: kiwisolver>=1.0.1 in c:\\users\\diasr\\anaconda3\\lib\\site-packages (from matplotlib) (1.4.4)\n",
      "Requirement already satisfied: numpy<2,>=1.21 in c:\\users\\diasr\\anaconda3\\lib\\site-packages (from matplotlib) (1.26.4)\n",
      "Requirement already satisfied: packaging>=20.0 in c:\\users\\diasr\\anaconda3\\lib\\site-packages (from matplotlib) (23.1)\n",
      "Requirement already satisfied: pillow>=6.2.0 in c:\\users\\diasr\\anaconda3\\lib\\site-packages (from matplotlib) (10.2.0)\n",
      "Requirement already satisfied: pyparsing>=2.3.1 in c:\\users\\diasr\\anaconda3\\lib\\site-packages (from matplotlib) (3.0.9)\n",
      "Requirement already satisfied: python-dateutil>=2.7 in c:\\users\\diasr\\anaconda3\\lib\\site-packages (from matplotlib) (2.8.2)\n",
      "Requirement already satisfied: six>=1.5 in c:\\users\\diasr\\anaconda3\\lib\\site-packages (from python-dateutil>=2.7->matplotlib) (1.16.0)\n"
     ]
    },
    {
     "name": "stderr",
     "output_type": "stream",
     "text": [
      "WARNING: Skipping C:\\Users\\diasr\\anaconda3\\Lib\\site-packages\\jupyter_highlight_selected_word-0.2.0.dist-info due to invalid metadata entry 'name'\n",
      "WARNING: Skipping C:\\Users\\diasr\\anaconda3\\Lib\\site-packages\\jupyter_highlight_selected_word-0.2.0.dist-info due to invalid metadata entry 'name'\n",
      "WARNING: Skipping C:\\Users\\diasr\\anaconda3\\Lib\\site-packages\\jupyter_highlight_selected_word-0.2.0.dist-info due to invalid metadata entry 'name'\n",
      "WARNING: Skipping C:\\Users\\diasr\\anaconda3\\Lib\\site-packages\\jupyter_highlight_selected_word-0.2.0.dist-info due to invalid metadata entry 'name'\n",
      "WARNING: Skipping C:\\Users\\diasr\\anaconda3\\Lib\\site-packages\\jupyter_highlight_selected_word-0.2.0.dist-info due to invalid metadata entry 'name'\n",
      "WARNING: Skipping C:\\Users\\diasr\\anaconda3\\Lib\\site-packages\\jupyter_highlight_selected_word-0.2.0.dist-info due to invalid metadata entry 'name'\n"
     ]
    },
    {
     "name": "stdout",
     "output_type": "stream",
     "text": [
      "Requirement already satisfied: seaborn in c:\\users\\diasr\\anaconda3\\lib\\site-packages (0.12.2)\n",
      "Requirement already satisfied: numpy!=1.24.0,>=1.17 in c:\\users\\diasr\\anaconda3\\lib\\site-packages (from seaborn) (1.26.4)\n",
      "Requirement already satisfied: pandas>=0.25 in c:\\users\\diasr\\anaconda3\\lib\\site-packages (from seaborn) (2.1.4)\n",
      "Requirement already satisfied: matplotlib!=3.6.1,>=3.1 in c:\\users\\diasr\\anaconda3\\lib\\site-packages (from seaborn) (3.8.0)\n",
      "Requirement already satisfied: contourpy>=1.0.1 in c:\\users\\diasr\\anaconda3\\lib\\site-packages (from matplotlib!=3.6.1,>=3.1->seaborn) (1.2.0)\n",
      "Requirement already satisfied: cycler>=0.10 in c:\\users\\diasr\\anaconda3\\lib\\site-packages (from matplotlib!=3.6.1,>=3.1->seaborn) (0.11.0)\n",
      "Requirement already satisfied: fonttools>=4.22.0 in c:\\users\\diasr\\anaconda3\\lib\\site-packages (from matplotlib!=3.6.1,>=3.1->seaborn) (4.25.0)\n",
      "Requirement already satisfied: kiwisolver>=1.0.1 in c:\\users\\diasr\\anaconda3\\lib\\site-packages (from matplotlib!=3.6.1,>=3.1->seaborn) (1.4.4)\n",
      "Requirement already satisfied: packaging>=20.0 in c:\\users\\diasr\\anaconda3\\lib\\site-packages (from matplotlib!=3.6.1,>=3.1->seaborn) (23.1)\n",
      "Requirement already satisfied: pillow>=6.2.0 in c:\\users\\diasr\\anaconda3\\lib\\site-packages (from matplotlib!=3.6.1,>=3.1->seaborn) (10.2.0)\n",
      "Requirement already satisfied: pyparsing>=2.3.1 in c:\\users\\diasr\\anaconda3\\lib\\site-packages (from matplotlib!=3.6.1,>=3.1->seaborn) (3.0.9)\n",
      "Requirement already satisfied: python-dateutil>=2.7 in c:\\users\\diasr\\anaconda3\\lib\\site-packages (from matplotlib!=3.6.1,>=3.1->seaborn) (2.8.2)\n",
      "Requirement already satisfied: pytz>=2020.1 in c:\\users\\diasr\\anaconda3\\lib\\site-packages (from pandas>=0.25->seaborn) (2023.3.post1)\n",
      "Requirement already satisfied: tzdata>=2022.1 in c:\\users\\diasr\\anaconda3\\lib\\site-packages (from pandas>=0.25->seaborn) (2023.3)\n",
      "Requirement already satisfied: six>=1.5 in c:\\users\\diasr\\anaconda3\\lib\\site-packages (from python-dateutil>=2.7->matplotlib!=3.6.1,>=3.1->seaborn) (1.16.0)\n"
     ]
    },
    {
     "name": "stderr",
     "output_type": "stream",
     "text": [
      "WARNING: Skipping C:\\Users\\diasr\\anaconda3\\Lib\\site-packages\\jupyter_highlight_selected_word-0.2.0.dist-info due to invalid metadata entry 'name'\n",
      "WARNING: Skipping C:\\Users\\diasr\\anaconda3\\Lib\\site-packages\\jupyter_highlight_selected_word-0.2.0.dist-info due to invalid metadata entry 'name'\n",
      "WARNING: Skipping C:\\Users\\diasr\\anaconda3\\Lib\\site-packages\\jupyter_highlight_selected_word-0.2.0.dist-info due to invalid metadata entry 'name'\n",
      "WARNING: Skipping C:\\Users\\diasr\\anaconda3\\Lib\\site-packages\\jupyter_highlight_selected_word-0.2.0.dist-info due to invalid metadata entry 'name'\n",
      "WARNING: Skipping C:\\Users\\diasr\\anaconda3\\Lib\\site-packages\\jupyter_highlight_selected_word-0.2.0.dist-info due to invalid metadata entry 'name'\n",
      "WARNING: Skipping C:\\Users\\diasr\\anaconda3\\Lib\\site-packages\\jupyter_highlight_selected_word-0.2.0.dist-info due to invalid metadata entry 'name'\n"
     ]
    },
    {
     "name": "stdout",
     "output_type": "stream",
     "text": [
      "Requirement already satisfied: plotly in c:\\users\\diasr\\anaconda3\\lib\\site-packages (5.9.0)\n",
      "Requirement already satisfied: tenacity>=6.2.0 in c:\\users\\diasr\\anaconda3\\lib\\site-packages (from plotly) (8.2.2)\n"
     ]
    },
    {
     "name": "stderr",
     "output_type": "stream",
     "text": [
      "WARNING: Skipping C:\\Users\\diasr\\anaconda3\\Lib\\site-packages\\jupyter_highlight_selected_word-0.2.0.dist-info due to invalid metadata entry 'name'\n",
      "WARNING: Skipping C:\\Users\\diasr\\anaconda3\\Lib\\site-packages\\jupyter_highlight_selected_word-0.2.0.dist-info due to invalid metadata entry 'name'\n",
      "WARNING: Skipping C:\\Users\\diasr\\anaconda3\\Lib\\site-packages\\jupyter_highlight_selected_word-0.2.0.dist-info due to invalid metadata entry 'name'\n",
      "WARNING: Skipping C:\\Users\\diasr\\anaconda3\\Lib\\site-packages\\jupyter_highlight_selected_word-0.2.0.dist-info due to invalid metadata entry 'name'\n",
      "WARNING: Skipping C:\\Users\\diasr\\anaconda3\\Lib\\site-packages\\jupyter_highlight_selected_word-0.2.0.dist-info due to invalid metadata entry 'name'\n",
      "WARNING: Skipping C:\\Users\\diasr\\anaconda3\\Lib\\site-packages\\jupyter_highlight_selected_word-0.2.0.dist-info due to invalid metadata entry 'name'\n"
     ]
    },
    {
     "name": "stdout",
     "output_type": "stream",
     "text": [
      "Requirement already satisfied: pingouin in c:\\users\\diasr\\anaconda3\\lib\\site-packages (0.5.4)\n",
      "Requirement already satisfied: numpy in c:\\users\\diasr\\anaconda3\\lib\\site-packages (from pingouin) (1.26.4)\n",
      "Requirement already satisfied: scipy in c:\\users\\diasr\\anaconda3\\lib\\site-packages (from pingouin) (1.11.4)\n",
      "Requirement already satisfied: pandas>=1.5 in c:\\users\\diasr\\anaconda3\\lib\\site-packages (from pingouin) (2.1.4)\n",
      "Requirement already satisfied: matplotlib in c:\\users\\diasr\\anaconda3\\lib\\site-packages (from pingouin) (3.8.0)\n",
      "Requirement already satisfied: seaborn in c:\\users\\diasr\\anaconda3\\lib\\site-packages (from pingouin) (0.12.2)\n",
      "Requirement already satisfied: statsmodels in c:\\users\\diasr\\anaconda3\\lib\\site-packages (from pingouin) (0.14.0)\n",
      "Requirement already satisfied: scikit-learn in c:\\users\\diasr\\anaconda3\\lib\\site-packages (from pingouin) (1.2.2)\n",
      "Requirement already satisfied: pandas-flavor in c:\\users\\diasr\\anaconda3\\lib\\site-packages (from pingouin) (0.6.0)\n",
      "Requirement already satisfied: tabulate in c:\\users\\diasr\\anaconda3\\lib\\site-packages (from pingouin) (0.9.0)\n",
      "Requirement already satisfied: python-dateutil>=2.8.2 in c:\\users\\diasr\\anaconda3\\lib\\site-packages (from pandas>=1.5->pingouin) (2.8.2)\n",
      "Requirement already satisfied: pytz>=2020.1 in c:\\users\\diasr\\anaconda3\\lib\\site-packages (from pandas>=1.5->pingouin) (2023.3.post1)\n",
      "Requirement already satisfied: tzdata>=2022.1 in c:\\users\\diasr\\anaconda3\\lib\\site-packages (from pandas>=1.5->pingouin) (2023.3)\n",
      "Requirement already satisfied: contourpy>=1.0.1 in c:\\users\\diasr\\anaconda3\\lib\\site-packages (from matplotlib->pingouin) (1.2.0)\n",
      "Requirement already satisfied: cycler>=0.10 in c:\\users\\diasr\\anaconda3\\lib\\site-packages (from matplotlib->pingouin) (0.11.0)\n",
      "Requirement already satisfied: fonttools>=4.22.0 in c:\\users\\diasr\\anaconda3\\lib\\site-packages (from matplotlib->pingouin) (4.25.0)\n",
      "Requirement already satisfied: kiwisolver>=1.0.1 in c:\\users\\diasr\\anaconda3\\lib\\site-packages (from matplotlib->pingouin) (1.4.4)\n",
      "Requirement already satisfied: packaging>=20.0 in c:\\users\\diasr\\anaconda3\\lib\\site-packages (from matplotlib->pingouin) (23.1)\n",
      "Requirement already satisfied: pillow>=6.2.0 in c:\\users\\diasr\\anaconda3\\lib\\site-packages (from matplotlib->pingouin) (10.2.0)\n",
      "Requirement already satisfied: pyparsing>=2.3.1 in c:\\users\\diasr\\anaconda3\\lib\\site-packages (from matplotlib->pingouin) (3.0.9)\n",
      "Requirement already satisfied: xarray in c:\\users\\diasr\\anaconda3\\lib\\site-packages (from pandas-flavor->pingouin) (2023.6.0)\n",
      "Requirement already satisfied: joblib>=1.1.1 in c:\\users\\diasr\\anaconda3\\lib\\site-packages (from scikit-learn->pingouin) (1.2.0)\n",
      "Requirement already satisfied: threadpoolctl>=2.0.0 in c:\\users\\diasr\\anaconda3\\lib\\site-packages (from scikit-learn->pingouin) (2.2.0)\n",
      "Requirement already satisfied: patsy>=0.5.2 in c:\\users\\diasr\\anaconda3\\lib\\site-packages (from statsmodels->pingouin) (0.5.3)\n",
      "Requirement already satisfied: six in c:\\users\\diasr\\anaconda3\\lib\\site-packages (from patsy>=0.5.2->statsmodels->pingouin) (1.16.0)\n"
     ]
    },
    {
     "name": "stderr",
     "output_type": "stream",
     "text": [
      "WARNING: Skipping C:\\Users\\diasr\\anaconda3\\Lib\\site-packages\\jupyter_highlight_selected_word-0.2.0.dist-info due to invalid metadata entry 'name'\n",
      "WARNING: Skipping C:\\Users\\diasr\\anaconda3\\Lib\\site-packages\\jupyter_highlight_selected_word-0.2.0.dist-info due to invalid metadata entry 'name'\n",
      "WARNING: Skipping C:\\Users\\diasr\\anaconda3\\Lib\\site-packages\\jupyter_highlight_selected_word-0.2.0.dist-info due to invalid metadata entry 'name'\n",
      "WARNING: Skipping C:\\Users\\diasr\\anaconda3\\Lib\\site-packages\\jupyter_highlight_selected_word-0.2.0.dist-info due to invalid metadata entry 'name'\n",
      "WARNING: Skipping C:\\Users\\diasr\\anaconda3\\Lib\\site-packages\\jupyter_highlight_selected_word-0.2.0.dist-info due to invalid metadata entry 'name'\n",
      "WARNING: Skipping C:\\Users\\diasr\\anaconda3\\Lib\\site-packages\\jupyter_highlight_selected_word-0.2.0.dist-info due to invalid metadata entry 'name'\n"
     ]
    },
    {
     "name": "stdout",
     "output_type": "stream",
     "text": [
      "Requirement already satisfied: pyshp in c:\\users\\diasr\\anaconda3\\lib\\site-packages (2.3.1)\n"
     ]
    },
    {
     "name": "stderr",
     "output_type": "stream",
     "text": [
      "WARNING: Skipping C:\\Users\\diasr\\anaconda3\\Lib\\site-packages\\jupyter_highlight_selected_word-0.2.0.dist-info due to invalid metadata entry 'name'\n",
      "WARNING: Skipping C:\\Users\\diasr\\anaconda3\\Lib\\site-packages\\jupyter_highlight_selected_word-0.2.0.dist-info due to invalid metadata entry 'name'\n",
      "WARNING: Skipping C:\\Users\\diasr\\anaconda3\\Lib\\site-packages\\jupyter_highlight_selected_word-0.2.0.dist-info due to invalid metadata entry 'name'\n",
      "WARNING: Skipping C:\\Users\\diasr\\anaconda3\\Lib\\site-packages\\jupyter_highlight_selected_word-0.2.0.dist-info due to invalid metadata entry 'name'\n",
      "WARNING: Skipping C:\\Users\\diasr\\anaconda3\\Lib\\site-packages\\jupyter_highlight_selected_word-0.2.0.dist-info due to invalid metadata entry 'name'\n",
      "WARNING: Skipping C:\\Users\\diasr\\anaconda3\\Lib\\site-packages\\jupyter_highlight_selected_word-0.2.0.dist-info due to invalid metadata entry 'name'\n"
     ]
    }
   ],
   "source": [
    "!pip install pandas\n",
    "!pip install numpy\n",
    "!pip install factor_analyzer\n",
    "!pip install sympy\n",
    "!pip install scipy\n",
    "!pip install matplotlib\n",
    "!pip install seaborn\n",
    "!pip install plotly\n",
    "!pip install pingouin\n",
    "!pip install pyshp\n",
    "\n",
    "import pandas as pd\n",
    "import numpy as np\n",
    "from factor_analyzer import FactorAnalyzer\n",
    "from factor_analyzer.factor_analyzer import calculate_kmo\n",
    "from factor_analyzer.factor_analyzer import calculate_bartlett_sphericity\n",
    "import pingouin as pg\n",
    "import matplotlib.pyplot as plt\n",
    "import seaborn as sns\n",
    "import plotly.io as pio\n",
    "import plotly.graph_objects as go\n",
    "import sympy as sy\n",
    "import scipy as sp"
   ]
  },
  {
   "cell_type": "markdown",
   "id": "fce60672-91ad-4374-bdbe-856a8686e6eb",
   "metadata": {},
   "source": [
    "### 10.2.6.2. Importando o banco de dados"
   ]
  },
  {
   "cell_type": "code",
   "execution_count": 390,
   "id": "489ffb74-eb08-4201-9a71-2b0bb64e4527",
   "metadata": {},
   "outputs": [
    {
     "data": {
      "text/html": [
       "<div>\n",
       "<style scoped>\n",
       "    .dataframe tbody tr th:only-of-type {\n",
       "        vertical-align: middle;\n",
       "    }\n",
       "\n",
       "    .dataframe tbody tr th {\n",
       "        vertical-align: top;\n",
       "    }\n",
       "\n",
       "    .dataframe thead th {\n",
       "        text-align: right;\n",
       "    }\n",
       "</style>\n",
       "<table border=\"1\" class=\"dataframe\">\n",
       "  <thead>\n",
       "    <tr style=\"text-align: right;\">\n",
       "      <th></th>\n",
       "      <th>estudante</th>\n",
       "      <th>finanças</th>\n",
       "      <th>custos</th>\n",
       "      <th>marketing</th>\n",
       "      <th>atuária</th>\n",
       "    </tr>\n",
       "  </thead>\n",
       "  <tbody>\n",
       "    <tr>\n",
       "      <th>0</th>\n",
       "      <td>Gabriela</td>\n",
       "      <td>5.8</td>\n",
       "      <td>4.0</td>\n",
       "      <td>1.0</td>\n",
       "      <td>6.0</td>\n",
       "    </tr>\n",
       "    <tr>\n",
       "      <th>1</th>\n",
       "      <td>Luiz Felipe</td>\n",
       "      <td>3.1</td>\n",
       "      <td>3.0</td>\n",
       "      <td>10.0</td>\n",
       "      <td>2.0</td>\n",
       "    </tr>\n",
       "    <tr>\n",
       "      <th>2</th>\n",
       "      <td>Patrícia</td>\n",
       "      <td>3.1</td>\n",
       "      <td>4.0</td>\n",
       "      <td>4.0</td>\n",
       "      <td>4.0</td>\n",
       "    </tr>\n",
       "    <tr>\n",
       "      <th>3</th>\n",
       "      <td>Gustavo</td>\n",
       "      <td>10.0</td>\n",
       "      <td>8.0</td>\n",
       "      <td>8.0</td>\n",
       "      <td>8.0</td>\n",
       "    </tr>\n",
       "    <tr>\n",
       "      <th>4</th>\n",
       "      <td>Letícia</td>\n",
       "      <td>3.4</td>\n",
       "      <td>2.0</td>\n",
       "      <td>3.2</td>\n",
       "      <td>3.2</td>\n",
       "    </tr>\n",
       "    <tr>\n",
       "      <th>...</th>\n",
       "      <td>...</td>\n",
       "      <td>...</td>\n",
       "      <td>...</td>\n",
       "      <td>...</td>\n",
       "      <td>...</td>\n",
       "    </tr>\n",
       "    <tr>\n",
       "      <th>95</th>\n",
       "      <td>Sheila</td>\n",
       "      <td>7.7</td>\n",
       "      <td>4.3</td>\n",
       "      <td>5.2</td>\n",
       "      <td>5.1</td>\n",
       "    </tr>\n",
       "    <tr>\n",
       "      <th>96</th>\n",
       "      <td>Pedro</td>\n",
       "      <td>9.0</td>\n",
       "      <td>6.0</td>\n",
       "      <td>4.0</td>\n",
       "      <td>9.8</td>\n",
       "    </tr>\n",
       "    <tr>\n",
       "      <th>97</th>\n",
       "      <td>Horácio</td>\n",
       "      <td>9.3</td>\n",
       "      <td>6.0</td>\n",
       "      <td>7.0</td>\n",
       "      <td>7.0</td>\n",
       "    </tr>\n",
       "    <tr>\n",
       "      <th>98</th>\n",
       "      <td>Leandro</td>\n",
       "      <td>9.0</td>\n",
       "      <td>6.5</td>\n",
       "      <td>3.0</td>\n",
       "      <td>9.0</td>\n",
       "    </tr>\n",
       "    <tr>\n",
       "      <th>99</th>\n",
       "      <td>Estela</td>\n",
       "      <td>8.9</td>\n",
       "      <td>5.0</td>\n",
       "      <td>2.0</td>\n",
       "      <td>8.0</td>\n",
       "    </tr>\n",
       "  </tbody>\n",
       "</table>\n",
       "<p>100 rows × 5 columns</p>\n",
       "</div>"
      ],
      "text/plain": [
       "      estudante  finanças  custos  marketing  atuária\n",
       "0      Gabriela       5.8     4.0        1.0      6.0\n",
       "1   Luiz Felipe       3.1     3.0       10.0      2.0\n",
       "2      Patrícia       3.1     4.0        4.0      4.0\n",
       "3       Gustavo      10.0     8.0        8.0      8.0\n",
       "4       Letícia       3.4     2.0        3.2      3.2\n",
       "..          ...       ...     ...        ...      ...\n",
       "95       Sheila       7.7     4.3        5.2      5.1\n",
       "96        Pedro       9.0     6.0        4.0      9.8\n",
       "97      Horácio       9.3     6.0        7.0      7.0\n",
       "98      Leandro       9.0     6.5        3.0      9.0\n",
       "99       Estela       8.9     5.0        2.0      8.0\n",
       "\n",
       "[100 rows x 5 columns]"
      ]
     },
     "execution_count": 390,
     "metadata": {},
     "output_type": "execute_result"
    }
   ],
   "source": [
    "notas = pd.read_excel('notas_fatorial.xlsx')\n",
    "notas"
   ]
  },
  {
   "cell_type": "markdown",
   "id": "62d732a0-74e8-43cb-b467-8b9c9296d9a9",
   "metadata": {},
   "source": [
    "### 10.2.6.3. Informações sobre as variáveis"
   ]
  },
  {
   "cell_type": "code",
   "execution_count": 393,
   "id": "f765be50-9010-48b5-84e6-d6a1664ea25a",
   "metadata": {},
   "outputs": [
    {
     "name": "stdout",
     "output_type": "stream",
     "text": [
      "<class 'pandas.core.frame.DataFrame'>\n",
      "RangeIndex: 100 entries, 0 to 99\n",
      "Data columns (total 5 columns):\n",
      " #   Column     Non-Null Count  Dtype  \n",
      "---  ------     --------------  -----  \n",
      " 0   estudante  100 non-null    object \n",
      " 1   finanças   100 non-null    float64\n",
      " 2   custos     100 non-null    float64\n",
      " 3   marketing  100 non-null    float64\n",
      " 4   atuária    100 non-null    float64\n",
      "dtypes: float64(4), object(1)\n",
      "memory usage: 4.0+ KB\n"
     ]
    }
   ],
   "source": [
    "notas.info()"
   ]
  },
  {
   "cell_type": "code",
   "execution_count": 395,
   "id": "1f90816c-4c71-4c1a-8f74-727db5b3ecc3",
   "metadata": {},
   "outputs": [
    {
     "data": {
      "text/html": [
       "<div>\n",
       "<style scoped>\n",
       "    .dataframe tbody tr th:only-of-type {\n",
       "        vertical-align: middle;\n",
       "    }\n",
       "\n",
       "    .dataframe tbody tr th {\n",
       "        vertical-align: top;\n",
       "    }\n",
       "\n",
       "    .dataframe thead th {\n",
       "        text-align: right;\n",
       "    }\n",
       "</style>\n",
       "<table border=\"1\" class=\"dataframe\">\n",
       "  <thead>\n",
       "    <tr style=\"text-align: right;\">\n",
       "      <th></th>\n",
       "      <th>finanças</th>\n",
       "      <th>custos</th>\n",
       "      <th>marketing</th>\n",
       "      <th>atuária</th>\n",
       "    </tr>\n",
       "  </thead>\n",
       "  <tbody>\n",
       "    <tr>\n",
       "      <th>count</th>\n",
       "      <td>100.000000</td>\n",
       "      <td>100.000000</td>\n",
       "      <td>100.000000</td>\n",
       "      <td>100.000000</td>\n",
       "    </tr>\n",
       "    <tr>\n",
       "      <th>mean</th>\n",
       "      <td>5.834000</td>\n",
       "      <td>4.717000</td>\n",
       "      <td>5.668000</td>\n",
       "      <td>5.314000</td>\n",
       "    </tr>\n",
       "    <tr>\n",
       "      <th>std</th>\n",
       "      <td>3.122749</td>\n",
       "      <td>2.455999</td>\n",
       "      <td>2.828351</td>\n",
       "      <td>2.513078</td>\n",
       "    </tr>\n",
       "    <tr>\n",
       "      <th>min</th>\n",
       "      <td>0.600000</td>\n",
       "      <td>1.900000</td>\n",
       "      <td>1.000000</td>\n",
       "      <td>1.700000</td>\n",
       "    </tr>\n",
       "    <tr>\n",
       "      <th>25%</th>\n",
       "      <td>3.100000</td>\n",
       "      <td>2.900000</td>\n",
       "      <td>3.000000</td>\n",
       "      <td>3.200000</td>\n",
       "    </tr>\n",
       "    <tr>\n",
       "      <th>50%</th>\n",
       "      <td>5.800000</td>\n",
       "      <td>4.000000</td>\n",
       "      <td>6.000000</td>\n",
       "      <td>5.000000</td>\n",
       "    </tr>\n",
       "    <tr>\n",
       "      <th>75%</th>\n",
       "      <td>9.000000</td>\n",
       "      <td>6.000000</td>\n",
       "      <td>8.000000</td>\n",
       "      <td>7.025000</td>\n",
       "    </tr>\n",
       "    <tr>\n",
       "      <th>max</th>\n",
       "      <td>10.000000</td>\n",
       "      <td>10.000000</td>\n",
       "      <td>10.000000</td>\n",
       "      <td>10.000000</td>\n",
       "    </tr>\n",
       "  </tbody>\n",
       "</table>\n",
       "</div>"
      ],
      "text/plain": [
       "         finanças      custos   marketing     atuária\n",
       "count  100.000000  100.000000  100.000000  100.000000\n",
       "mean     5.834000    4.717000    5.668000    5.314000\n",
       "std      3.122749    2.455999    2.828351    2.513078\n",
       "min      0.600000    1.900000    1.000000    1.700000\n",
       "25%      3.100000    2.900000    3.000000    3.200000\n",
       "50%      5.800000    4.000000    6.000000    5.000000\n",
       "75%      9.000000    6.000000    8.000000    7.025000\n",
       "max     10.000000   10.000000   10.000000   10.000000"
      ]
     },
     "execution_count": 395,
     "metadata": {},
     "output_type": "execute_result"
    }
   ],
   "source": [
    "notas.describe()"
   ]
  },
  {
   "cell_type": "markdown",
   "id": "d9df2dd2-4b0a-48ed-a8b9-8659bdfd1916",
   "metadata": {},
   "source": [
    "### 10.2.6.4. Separando somente as variáveis quantitativas do banco de dados"
   ]
  },
  {
   "cell_type": "code",
   "execution_count": 398,
   "id": "49e611a6-841a-40f1-8a09-a2aaa68d4355",
   "metadata": {},
   "outputs": [
    {
     "data": {
      "text/html": [
       "<div>\n",
       "<style scoped>\n",
       "    .dataframe tbody tr th:only-of-type {\n",
       "        vertical-align: middle;\n",
       "    }\n",
       "\n",
       "    .dataframe tbody tr th {\n",
       "        vertical-align: top;\n",
       "    }\n",
       "\n",
       "    .dataframe thead th {\n",
       "        text-align: right;\n",
       "    }\n",
       "</style>\n",
       "<table border=\"1\" class=\"dataframe\">\n",
       "  <thead>\n",
       "    <tr style=\"text-align: right;\">\n",
       "      <th></th>\n",
       "      <th>finanças</th>\n",
       "      <th>custos</th>\n",
       "      <th>marketing</th>\n",
       "      <th>atuária</th>\n",
       "    </tr>\n",
       "  </thead>\n",
       "  <tbody>\n",
       "    <tr>\n",
       "      <th>0</th>\n",
       "      <td>5.8</td>\n",
       "      <td>4.0</td>\n",
       "      <td>1.0</td>\n",
       "      <td>6.0</td>\n",
       "    </tr>\n",
       "    <tr>\n",
       "      <th>1</th>\n",
       "      <td>3.1</td>\n",
       "      <td>3.0</td>\n",
       "      <td>10.0</td>\n",
       "      <td>2.0</td>\n",
       "    </tr>\n",
       "    <tr>\n",
       "      <th>2</th>\n",
       "      <td>3.1</td>\n",
       "      <td>4.0</td>\n",
       "      <td>4.0</td>\n",
       "      <td>4.0</td>\n",
       "    </tr>\n",
       "    <tr>\n",
       "      <th>3</th>\n",
       "      <td>10.0</td>\n",
       "      <td>8.0</td>\n",
       "      <td>8.0</td>\n",
       "      <td>8.0</td>\n",
       "    </tr>\n",
       "    <tr>\n",
       "      <th>4</th>\n",
       "      <td>3.4</td>\n",
       "      <td>2.0</td>\n",
       "      <td>3.2</td>\n",
       "      <td>3.2</td>\n",
       "    </tr>\n",
       "    <tr>\n",
       "      <th>...</th>\n",
       "      <td>...</td>\n",
       "      <td>...</td>\n",
       "      <td>...</td>\n",
       "      <td>...</td>\n",
       "    </tr>\n",
       "    <tr>\n",
       "      <th>95</th>\n",
       "      <td>7.7</td>\n",
       "      <td>4.3</td>\n",
       "      <td>5.2</td>\n",
       "      <td>5.1</td>\n",
       "    </tr>\n",
       "    <tr>\n",
       "      <th>96</th>\n",
       "      <td>9.0</td>\n",
       "      <td>6.0</td>\n",
       "      <td>4.0</td>\n",
       "      <td>9.8</td>\n",
       "    </tr>\n",
       "    <tr>\n",
       "      <th>97</th>\n",
       "      <td>9.3</td>\n",
       "      <td>6.0</td>\n",
       "      <td>7.0</td>\n",
       "      <td>7.0</td>\n",
       "    </tr>\n",
       "    <tr>\n",
       "      <th>98</th>\n",
       "      <td>9.0</td>\n",
       "      <td>6.5</td>\n",
       "      <td>3.0</td>\n",
       "      <td>9.0</td>\n",
       "    </tr>\n",
       "    <tr>\n",
       "      <th>99</th>\n",
       "      <td>8.9</td>\n",
       "      <td>5.0</td>\n",
       "      <td>2.0</td>\n",
       "      <td>8.0</td>\n",
       "    </tr>\n",
       "  </tbody>\n",
       "</table>\n",
       "<p>100 rows × 4 columns</p>\n",
       "</div>"
      ],
      "text/plain": [
       "    finanças  custos  marketing  atuária\n",
       "0        5.8     4.0        1.0      6.0\n",
       "1        3.1     3.0       10.0      2.0\n",
       "2        3.1     4.0        4.0      4.0\n",
       "3       10.0     8.0        8.0      8.0\n",
       "4        3.4     2.0        3.2      3.2\n",
       "..       ...     ...        ...      ...\n",
       "95       7.7     4.3        5.2      5.1\n",
       "96       9.0     6.0        4.0      9.8\n",
       "97       9.3     6.0        7.0      7.0\n",
       "98       9.0     6.5        3.0      9.0\n",
       "99       8.9     5.0        2.0      8.0\n",
       "\n",
       "[100 rows x 4 columns]"
      ]
     },
     "execution_count": 398,
     "metadata": {},
     "output_type": "execute_result"
    }
   ],
   "source": [
    "notas_pca = notas[['finanças', 'custos', 'marketing', 'atuária']]\n",
    "notas_pca"
   ]
  },
  {
   "cell_type": "markdown",
   "id": "7af0f1d0-601c-4a29-937d-2f2c8d8cd173",
   "metadata": {},
   "source": [
    "### 10.2.6.5. Matriz de correlações de Pearson entre as variáveis"
   ]
  },
  {
   "cell_type": "code",
   "execution_count": 401,
   "id": "2bdb01c6-c2f0-4352-8ab6-ecfcb4364e0b",
   "metadata": {},
   "outputs": [
    {
     "data": {
      "text/html": [
       "<style type=\"text/css\">\n",
       "#T_564f8_row0_col0, #T_564f8_row1_col1, #T_564f8_row2_col2, #T_564f8_row3_col3 {\n",
       "  background-color: #5e4fa2;\n",
       "  color: #f1f1f1;\n",
       "}\n",
       "#T_564f8_row0_col1 {\n",
       "  background-color: #84cea5;\n",
       "  color: #000000;\n",
       "}\n",
       "#T_564f8_row0_col2 {\n",
       "  background-color: #a40844;\n",
       "  color: #f1f1f1;\n",
       "}\n",
       "#T_564f8_row0_col3 {\n",
       "  background-color: #99d6a4;\n",
       "  color: #000000;\n",
       "}\n",
       "#T_564f8_row1_col0 {\n",
       "  background-color: #7ecca5;\n",
       "  color: #000000;\n",
       "}\n",
       "#T_564f8_row1_col2 {\n",
       "  background-color: #b61b48;\n",
       "  color: #f1f1f1;\n",
       "}\n",
       "#T_564f8_row1_col3 {\n",
       "  background-color: #5eb9a9;\n",
       "  color: #f1f1f1;\n",
       "}\n",
       "#T_564f8_row2_col0, #T_564f8_row2_col1, #T_564f8_row2_col3, #T_564f8_row3_col2 {\n",
       "  background-color: #9e0142;\n",
       "  color: #f1f1f1;\n",
       "}\n",
       "#T_564f8_row3_col0 {\n",
       "  background-color: #9cd7a4;\n",
       "  color: #000000;\n",
       "}\n",
       "#T_564f8_row3_col1 {\n",
       "  background-color: #62bda7;\n",
       "  color: #000000;\n",
       "}\n",
       "</style>\n",
       "<table id=\"T_564f8\">\n",
       "  <thead>\n",
       "    <tr>\n",
       "      <th class=\"blank level0\" >&nbsp;</th>\n",
       "      <th id=\"T_564f8_level0_col0\" class=\"col_heading level0 col0\" >finanças</th>\n",
       "      <th id=\"T_564f8_level0_col1\" class=\"col_heading level0 col1\" >custos</th>\n",
       "      <th id=\"T_564f8_level0_col2\" class=\"col_heading level0 col2\" >marketing</th>\n",
       "      <th id=\"T_564f8_level0_col3\" class=\"col_heading level0 col3\" >atuária</th>\n",
       "    </tr>\n",
       "  </thead>\n",
       "  <tbody>\n",
       "    <tr>\n",
       "      <th id=\"T_564f8_level0_row0\" class=\"row_heading level0 row0\" >finanças</th>\n",
       "      <td id=\"T_564f8_row0_col0\" class=\"data row0 col0\" >1.000000</td>\n",
       "      <td id=\"T_564f8_row0_col1\" class=\"data row0 col1\" >0.755550</td>\n",
       "      <td id=\"T_564f8_row0_col2\" class=\"data row0 col2\" >-0.029531</td>\n",
       "      <td id=\"T_564f8_row0_col3\" class=\"data row0 col3\" >0.710871</td>\n",
       "    </tr>\n",
       "    <tr>\n",
       "      <th id=\"T_564f8_level0_row1\" class=\"row_heading level0 row1\" >custos</th>\n",
       "      <td id=\"T_564f8_row1_col0\" class=\"data row1 col0\" >0.755550</td>\n",
       "      <td id=\"T_564f8_row1_col1\" class=\"data row1 col1\" >1.000000</td>\n",
       "      <td id=\"T_564f8_row1_col2\" class=\"data row1 col2\" >0.002856</td>\n",
       "      <td id=\"T_564f8_row1_col3\" class=\"data row1 col3\" >0.808092</td>\n",
       "    </tr>\n",
       "    <tr>\n",
       "      <th id=\"T_564f8_level0_row2\" class=\"row_heading level0 row2\" >marketing</th>\n",
       "      <td id=\"T_564f8_row2_col0\" class=\"data row2 col0\" >-0.029531</td>\n",
       "      <td id=\"T_564f8_row2_col1\" class=\"data row2 col1\" >0.002856</td>\n",
       "      <td id=\"T_564f8_row2_col2\" class=\"data row2 col2\" >1.000000</td>\n",
       "      <td id=\"T_564f8_row2_col3\" class=\"data row2 col3\" >-0.044346</td>\n",
       "    </tr>\n",
       "    <tr>\n",
       "      <th id=\"T_564f8_level0_row3\" class=\"row_heading level0 row3\" >atuária</th>\n",
       "      <td id=\"T_564f8_row3_col0\" class=\"data row3 col0\" >0.710871</td>\n",
       "      <td id=\"T_564f8_row3_col1\" class=\"data row3 col1\" >0.808092</td>\n",
       "      <td id=\"T_564f8_row3_col2\" class=\"data row3 col2\" >-0.044346</td>\n",
       "      <td id=\"T_564f8_row3_col3\" class=\"data row3 col3\" >1.000000</td>\n",
       "    </tr>\n",
       "  </tbody>\n",
       "</table>\n"
      ],
      "text/plain": [
       "<pandas.io.formats.style.Styler at 0x22fe8863250>"
      ]
     },
     "execution_count": 401,
     "metadata": {},
     "output_type": "execute_result"
    }
   ],
   "source": [
    "# Matriz de correlações em um objeto \"simples\"\n",
    "corr = notas_pca.corr()\n",
    "\n",
    "cmap = sns.color_palette('Spectral', as_cmap=True)\n",
    "notas_pca.corr().style.background_gradient(cmap=cmap)"
   ]
  },
  {
   "cell_type": "markdown",
   "id": "41c0d09a-e97e-4fce-bab1-e94c534ec1b5",
   "metadata": {},
   "source": [
    "### 10.2.6.6. Teste da estátistica de KMO"
   ]
  },
  {
   "cell_type": "code",
   "execution_count": 404,
   "id": "7738f557-23fe-4529-953d-612920d46772",
   "metadata": {},
   "outputs": [
    {
     "name": "stdout",
     "output_type": "stream",
     "text": [
      "Coeficientes do KMO: [0.80629449 0.69180139 0.20937724 0.73455993]\n",
      "KMO: 0.737\n"
     ]
    }
   ],
   "source": [
    "coeficientes_kmo, kmo = calculate_kmo(notas_pca)\n",
    "print(f'Coeficientes do KMO: {coeficientes_kmo}')\n",
    "print(f'KMO: {round(kmo, 3)}')"
   ]
  },
  {
   "cell_type": "markdown",
   "id": "52d6d161-2856-4905-8add-b681d87d4e59",
   "metadata": {},
   "source": [
    "### 10.2.6.7. Teste da esfericidade de Bartlett"
   ]
  },
  {
   "cell_type": "code",
   "execution_count": 407,
   "id": "41a99eaf-41b7-4089-8824-cdac08e5b24b",
   "metadata": {},
   "outputs": [
    {
     "name": "stdout",
     "output_type": "stream",
     "text": [
      "Qui² Bartlett: 192\n",
      "p-valor: 0.0\n"
     ]
    }
   ],
   "source": [
    "bartlett, p_value = calculate_bartlett_sphericity(notas_pca)\n",
    "print(f'Qui² Bartlett: {round(bartlett)}')\n",
    "print(f'p-valor: {round(p_value, 4)}')"
   ]
  },
  {
   "cell_type": "markdown",
   "id": "05e4b631-f388-49b7-a22b-8803daa6e087",
   "metadata": {},
   "source": [
    "### 10.2.6.8. Definindo o PCA"
   ]
  },
  {
   "cell_type": "code",
   "execution_count": 410,
   "id": "6b83ef2f-6033-419e-9bf7-6c22c67ad846",
   "metadata": {},
   "outputs": [
    {
     "data": {
      "text/html": [
       "<style>#sk-container-id-2 {color: black;background-color: white;}#sk-container-id-2 pre{padding: 0;}#sk-container-id-2 div.sk-toggleable {background-color: white;}#sk-container-id-2 label.sk-toggleable__label {cursor: pointer;display: block;width: 100%;margin-bottom: 0;padding: 0.3em;box-sizing: border-box;text-align: center;}#sk-container-id-2 label.sk-toggleable__label-arrow:before {content: \"▸\";float: left;margin-right: 0.25em;color: #696969;}#sk-container-id-2 label.sk-toggleable__label-arrow:hover:before {color: black;}#sk-container-id-2 div.sk-estimator:hover label.sk-toggleable__label-arrow:before {color: black;}#sk-container-id-2 div.sk-toggleable__content {max-height: 0;max-width: 0;overflow: hidden;text-align: left;background-color: #f0f8ff;}#sk-container-id-2 div.sk-toggleable__content pre {margin: 0.2em;color: black;border-radius: 0.25em;background-color: #f0f8ff;}#sk-container-id-2 input.sk-toggleable__control:checked~div.sk-toggleable__content {max-height: 200px;max-width: 100%;overflow: auto;}#sk-container-id-2 input.sk-toggleable__control:checked~label.sk-toggleable__label-arrow:before {content: \"▾\";}#sk-container-id-2 div.sk-estimator input.sk-toggleable__control:checked~label.sk-toggleable__label {background-color: #d4ebff;}#sk-container-id-2 div.sk-label input.sk-toggleable__control:checked~label.sk-toggleable__label {background-color: #d4ebff;}#sk-container-id-2 input.sk-hidden--visually {border: 0;clip: rect(1px 1px 1px 1px);clip: rect(1px, 1px, 1px, 1px);height: 1px;margin: -1px;overflow: hidden;padding: 0;position: absolute;width: 1px;}#sk-container-id-2 div.sk-estimator {font-family: monospace;background-color: #f0f8ff;border: 1px dotted black;border-radius: 0.25em;box-sizing: border-box;margin-bottom: 0.5em;}#sk-container-id-2 div.sk-estimator:hover {background-color: #d4ebff;}#sk-container-id-2 div.sk-parallel-item::after {content: \"\";width: 100%;border-bottom: 1px solid gray;flex-grow: 1;}#sk-container-id-2 div.sk-label:hover label.sk-toggleable__label {background-color: #d4ebff;}#sk-container-id-2 div.sk-serial::before {content: \"\";position: absolute;border-left: 1px solid gray;box-sizing: border-box;top: 0;bottom: 0;left: 50%;z-index: 0;}#sk-container-id-2 div.sk-serial {display: flex;flex-direction: column;align-items: center;background-color: white;padding-right: 0.2em;padding-left: 0.2em;position: relative;}#sk-container-id-2 div.sk-item {position: relative;z-index: 1;}#sk-container-id-2 div.sk-parallel {display: flex;align-items: stretch;justify-content: center;background-color: white;position: relative;}#sk-container-id-2 div.sk-item::before, #sk-container-id-2 div.sk-parallel-item::before {content: \"\";position: absolute;border-left: 1px solid gray;box-sizing: border-box;top: 0;bottom: 0;left: 50%;z-index: -1;}#sk-container-id-2 div.sk-parallel-item {display: flex;flex-direction: column;z-index: 1;position: relative;background-color: white;}#sk-container-id-2 div.sk-parallel-item:first-child::after {align-self: flex-end;width: 50%;}#sk-container-id-2 div.sk-parallel-item:last-child::after {align-self: flex-start;width: 50%;}#sk-container-id-2 div.sk-parallel-item:only-child::after {width: 0;}#sk-container-id-2 div.sk-dashed-wrapped {border: 1px dashed gray;margin: 0 0.4em 0.5em 0.4em;box-sizing: border-box;padding-bottom: 0.4em;background-color: white;}#sk-container-id-2 div.sk-label label {font-family: monospace;font-weight: bold;display: inline-block;line-height: 1.2em;}#sk-container-id-2 div.sk-label-container {text-align: center;}#sk-container-id-2 div.sk-container {/* jupyter's `normalize.less` sets `[hidden] { display: none; }` but bootstrap.min.css set `[hidden] { display: none !important; }` so we also need the `!important` here to be able to override the default hidden behavior on the sphinx rendered scikit-learn.org. See: https://github.com/scikit-learn/scikit-learn/issues/21755 */display: inline-block !important;position: relative;}#sk-container-id-2 div.sk-text-repr-fallback {display: none;}</style><div id=\"sk-container-id-2\" class=\"sk-top-container\"><div class=\"sk-text-repr-fallback\"><pre>FactorAnalyzer(method=&#x27;principal&#x27;, n_factors=4, rotation=None,\n",
       "               rotation_kwargs={})</pre><b>In a Jupyter environment, please rerun this cell to show the HTML representation or trust the notebook. <br />On GitHub, the HTML representation is unable to render, please try loading this page with nbviewer.org.</b></div><div class=\"sk-container\" hidden><div class=\"sk-item\"><div class=\"sk-estimator sk-toggleable\"><input class=\"sk-toggleable__control sk-hidden--visually\" id=\"sk-estimator-id-2\" type=\"checkbox\" checked><label for=\"sk-estimator-id-2\" class=\"sk-toggleable__label sk-toggleable__label-arrow\">FactorAnalyzer</label><div class=\"sk-toggleable__content\"><pre>FactorAnalyzer(method=&#x27;principal&#x27;, n_factors=4, rotation=None,\n",
       "               rotation_kwargs={})</pre></div></div></div></div></div>"
      ],
      "text/plain": [
       "FactorAnalyzer(method='principal', n_factors=4, rotation=None,\n",
       "               rotation_kwargs={})"
      ]
     },
     "execution_count": 410,
     "metadata": {},
     "output_type": "execute_result"
    }
   ],
   "source": [
    "n_factors = notas_pca.shape[1]\n",
    "fa = FactorAnalyzer(n_factors=n_factors, method='principal', rotation=None).fit(notas_pca)\n",
    "fa"
   ]
  },
  {
   "cell_type": "markdown",
   "id": "b45bcea4-2757-4fd4-8132-e95e387c1f62",
   "metadata": {},
   "source": [
    "### 10.2.6.9. Obtendo os eigenvalues (autovalores): resultantes da função FactorAnalyzer"
   ]
  },
  {
   "cell_type": "code",
   "execution_count": 413,
   "id": "9404a5d7-a8a8-4646-8be5-ad9307224291",
   "metadata": {},
   "outputs": [
    {
     "name": "stdout",
     "output_type": "stream",
     "text": [
      "[2.51812681 1.0003793  0.29761585 0.18387804]\n"
     ]
    },
    {
     "data": {
      "image/png": "[encoded data removed]",
      "text/latex": [
       "$\\displaystyle 4.0$"
      ],
      "text/plain": [
       "4.0"
      ]
     },
     "execution_count": 413,
     "metadata": {},
     "output_type": "execute_result"
    }
   ],
   "source": [
    "autovalores = fa.get_eigenvalues()[0]\n",
    "print(autovalores) # Temos 4 autovalores, pois são 4 variáveis ao todo\n",
    "\n",
    "# Soma dos autovalores\n",
    "round(autovalores.sum(), 2)"
   ]
  },
  {
   "cell_type": "markdown",
   "id": "f02478e3-d9ca-4d72-a4dc-fe4d59cc8b1e",
   "metadata": {},
   "source": [
    "### 10.2.6.10. Eigenvalues, variâncias e variâncias acumuladas"
   ]
  },
  {
   "cell_type": "code",
   "execution_count": 416,
   "id": "7ef1f83d-acf0-49b1-8c9e-75d315a8dbd2",
   "metadata": {},
   "outputs": [
    {
     "data": {
      "text/html": [
       "<div>\n",
       "<style scoped>\n",
       "    .dataframe tbody tr th:only-of-type {\n",
       "        vertical-align: middle;\n",
       "    }\n",
       "\n",
       "    .dataframe tbody tr th {\n",
       "        vertical-align: top;\n",
       "    }\n",
       "\n",
       "    .dataframe thead th {\n",
       "        text-align: right;\n",
       "    }\n",
       "</style>\n",
       "<table border=\"1\" class=\"dataframe\">\n",
       "  <thead>\n",
       "    <tr style=\"text-align: right;\">\n",
       "      <th></th>\n",
       "      <th>Autovalor</th>\n",
       "      <th>Variância</th>\n",
       "      <th>Variância Acumulada</th>\n",
       "    </tr>\n",
       "  </thead>\n",
       "  <tbody>\n",
       "    <tr>\n",
       "      <th>Fator 1</th>\n",
       "      <td>2.518127</td>\n",
       "      <td>0.629532</td>\n",
       "      <td>0.629532</td>\n",
       "    </tr>\n",
       "    <tr>\n",
       "      <th>Fator 2</th>\n",
       "      <td>1.000379</td>\n",
       "      <td>0.250095</td>\n",
       "      <td>0.879627</td>\n",
       "    </tr>\n",
       "    <tr>\n",
       "      <th>Fator 3</th>\n",
       "      <td>0.297616</td>\n",
       "      <td>0.074404</td>\n",
       "      <td>0.954030</td>\n",
       "    </tr>\n",
       "    <tr>\n",
       "      <th>Fator 4</th>\n",
       "      <td>0.183878</td>\n",
       "      <td>0.045970</td>\n",
       "      <td>1.000000</td>\n",
       "    </tr>\n",
       "  </tbody>\n",
       "</table>\n",
       "</div>"
      ],
      "text/plain": [
       "         Autovalor  Variância  Variância Acumulada\n",
       "Fator 1   2.518127   0.629532             0.629532\n",
       "Fator 2   1.000379   0.250095             0.879627\n",
       "Fator 3   0.297616   0.074404             0.954030\n",
       "Fator 4   0.183878   0.045970             1.000000"
      ]
     },
     "execution_count": 416,
     "metadata": {},
     "output_type": "execute_result"
    }
   ],
   "source": [
    "autovalores_fatores = fa.get_factor_variance()\n",
    "\n",
    "tabela_eigen = pd.DataFrame(autovalores_fatores)\n",
    "tabela_eigen.columns = [f\"Fator {i+1}\" for i, v in enumerate(tabela_eigen.columns)]\n",
    "tabela_eigen.index = ['Autovalor','Variância', 'Variância Acumulada']\n",
    "tabela_eigen = tabela_eigen.T\n",
    "tabela_eigen"
   ]
  },
  {
   "cell_type": "markdown",
   "id": "c106209b-8560-46d4-8d86-b5ae36d6da8c",
   "metadata": {},
   "source": [
    "### 10.2.6.11. Gráfico da variância acumulada dos componentes principais"
   ]
  },
  {
   "cell_type": "code",
   "execution_count": 419,
   "id": "0ad47d49-1b3d-4916-b6c4-046cf0c5bd45",
   "metadata": {},
   "outputs": [
    {
     "data": {
      "image/png": "[encoded data removed]",
      "text/plain": [
       "<Figure size 1200x800 with 1 Axes>"
      ]
     },
     "metadata": {},
     "output_type": "display_data"
    }
   ],
   "source": [
    "plt.figure(figsize=(12,8))\n",
    "ax = sns.barplot(x=tabela_eigen.index, y=tabela_eigen['Variância'], data=tabela_eigen, palette='rocket')\n",
    "ax.bar_label(ax.containers[0])\n",
    "plt.title(\"Fatores Extraídos\", fontsize=16)\n",
    "plt.xlabel(f\"{tabela_eigen.shape[0]} fatores que explicam {round(tabela_eigen['Variância'].sum()*100,2)}% da variância\", fontsize=12)\n",
    "plt.ylabel(\"Porcentagem de variância explicada\", fontsize=12)\n",
    "plt.show()"
   ]
  },
  {
   "cell_type": "markdown",
   "id": "0124c6fc-418c-4518-9725-ae13ba4bce79",
   "metadata": {},
   "source": [
    "### 10.2.6.12. Determinando as cargas fatoriais"
   ]
  },
  {
   "cell_type": "code",
   "execution_count": 422,
   "id": "5f0f6ee4-8fbc-42d1-9c05-f4e676963d11",
   "metadata": {},
   "outputs": [
    {
     "data": {
      "text/html": [
       "<div>\n",
       "<style scoped>\n",
       "    .dataframe tbody tr th:only-of-type {\n",
       "        vertical-align: middle;\n",
       "    }\n",
       "\n",
       "    .dataframe tbody tr th {\n",
       "        vertical-align: top;\n",
       "    }\n",
       "\n",
       "    .dataframe thead th {\n",
       "        text-align: right;\n",
       "    }\n",
       "</style>\n",
       "<table border=\"1\" class=\"dataframe\">\n",
       "  <thead>\n",
       "    <tr style=\"text-align: right;\">\n",
       "      <th></th>\n",
       "      <th>Fator 1</th>\n",
       "      <th>Fator 2</th>\n",
       "      <th>Fator 3</th>\n",
       "      <th>Fator 4</th>\n",
       "    </tr>\n",
       "  </thead>\n",
       "  <tbody>\n",
       "    <tr>\n",
       "      <th>finanças</th>\n",
       "      <td>0.895398</td>\n",
       "      <td>0.007086</td>\n",
       "      <td>0.436720</td>\n",
       "      <td>0.086533</td>\n",
       "    </tr>\n",
       "    <tr>\n",
       "      <th>custos</th>\n",
       "      <td>0.934033</td>\n",
       "      <td>0.048581</td>\n",
       "      <td>-0.119783</td>\n",
       "      <td>-0.332978</td>\n",
       "    </tr>\n",
       "    <tr>\n",
       "      <th>marketing</th>\n",
       "      <td>-0.042466</td>\n",
       "      <td>0.998933</td>\n",
       "      <td>-0.000358</td>\n",
       "      <td>0.018170</td>\n",
       "    </tr>\n",
       "    <tr>\n",
       "      <th>atuária</th>\n",
       "      <td>0.917697</td>\n",
       "      <td>-0.010133</td>\n",
       "      <td>-0.304210</td>\n",
       "      <td>0.255315</td>\n",
       "    </tr>\n",
       "  </tbody>\n",
       "</table>\n",
       "</div>"
      ],
      "text/plain": [
       "            Fator 1   Fator 2   Fator 3   Fator 4\n",
       "finanças   0.895398  0.007086  0.436720  0.086533\n",
       "custos     0.934033  0.048581 -0.119783 -0.332978\n",
       "marketing -0.042466  0.998933 -0.000358  0.018170\n",
       "atuária    0.917697 -0.010133 -0.304210  0.255315"
      ]
     },
     "execution_count": 422,
     "metadata": {},
     "output_type": "execute_result"
    }
   ],
   "source": [
    "cargas_fatoriais = fa.loadings_\n",
    "\n",
    "tabela_cargas = pd.DataFrame(cargas_fatoriais)\n",
    "tabela_cargas.columns = [f\"Fator {i+1}\" for i, v in enumerate(tabela_cargas.columns)]\n",
    "tabela_cargas.index = notas_pca.columns\n",
    "tabela_cargas"
   ]
  },
  {
   "cell_type": "markdown",
   "id": "b769d68f-6055-40cf-96f3-f373094dbe39",
   "metadata": {},
   "source": [
    "### 10.2.6.13. Gráfico das cargas fatoriais (*loading plot*)"
   ]
  },
  {
   "cell_type": "code",
   "execution_count": 425,
   "id": "229f8eae-bada-46e8-b7ae-2537d4dce280",
   "metadata": {},
   "outputs": [
    {
     "data": {
      "image/png": "[encoded data removed]",
      "text/plain": [
       "<Figure size 1200x800 with 1 Axes>"
      ]
     },
     "metadata": {},
     "output_type": "display_data"
    }
   ],
   "source": [
    "plt.figure(figsize=(12,8))\n",
    "tabela_cargas_chart = tabela_cargas.reset_index()\n",
    "plt.scatter(tabela_cargas_chart['Fator 1'], tabela_cargas_chart['Fator 2'], s=50, color='red')\n",
    "\n",
    "def label_point(x, y, val, ax):\n",
    "    a = pd.concat({'x': x, 'y': y, 'val': val}, axis=1)\n",
    "    for i, point in a.iterrows():\n",
    "        ax.text(point['x'] + 0.05, point['y'], point['val'])\n",
    "\n",
    "label_point(x = tabela_cargas_chart['Fator 1'],\n",
    "            y = tabela_cargas_chart['Fator 2'],\n",
    "            val = tabela_cargas_chart['index'],\n",
    "            ax = plt.gca()) \n",
    "\n",
    "plt.axhline(y=0, color='grey', ls='--')\n",
    "plt.axvline(x=0, color='grey', ls='--')\n",
    "plt.ylim([-1.1,1.1])\n",
    "plt.xlim([-1.1,1.1])\n",
    "plt.title(\"Loading Plot\", fontsize=16)\n",
    "plt.xlabel(f\"Fator 1: {round(tabela_eigen.iloc[0]['Variância']*100,2)}% de variância explicada\", fontsize=12)\n",
    "plt.ylabel(f\"Fator 2: {round(tabela_eigen.iloc[1]['Variância']*100,2)}% de variância explicada\", fontsize=12)\n",
    "plt.show()"
   ]
  },
  {
   "cell_type": "markdown",
   "id": "a51926d5-3838-448a-a690-3f0b35dc05ee",
   "metadata": {},
   "source": [
    "### 10.2.6.14. Determinando as comunalidades"
   ]
  },
  {
   "cell_type": "code",
   "execution_count": 428,
   "id": "dd435ff6-ae7a-4762-bd4a-79ef685e80ba",
   "metadata": {},
   "outputs": [
    {
     "data": {
      "text/html": [
       "<div>\n",
       "<style scoped>\n",
       "    .dataframe tbody tr th:only-of-type {\n",
       "        vertical-align: middle;\n",
       "    }\n",
       "\n",
       "    .dataframe tbody tr th {\n",
       "        vertical-align: top;\n",
       "    }\n",
       "\n",
       "    .dataframe thead th {\n",
       "        text-align: right;\n",
       "    }\n",
       "</style>\n",
       "<table border=\"1\" class=\"dataframe\">\n",
       "  <thead>\n",
       "    <tr style=\"text-align: right;\">\n",
       "      <th></th>\n",
       "      <th>Comunalidades</th>\n",
       "    </tr>\n",
       "  </thead>\n",
       "  <tbody>\n",
       "    <tr>\n",
       "      <th>finanças</th>\n",
       "      <td>1.0</td>\n",
       "    </tr>\n",
       "    <tr>\n",
       "      <th>custos</th>\n",
       "      <td>1.0</td>\n",
       "    </tr>\n",
       "    <tr>\n",
       "      <th>marketing</th>\n",
       "      <td>1.0</td>\n",
       "    </tr>\n",
       "    <tr>\n",
       "      <th>atuária</th>\n",
       "      <td>1.0</td>\n",
       "    </tr>\n",
       "  </tbody>\n",
       "</table>\n",
       "</div>"
      ],
      "text/plain": [
       "           Comunalidades\n",
       "finanças             1.0\n",
       "custos               1.0\n",
       "marketing            1.0\n",
       "atuária              1.0"
      ]
     },
     "execution_count": 428,
     "metadata": {},
     "output_type": "execute_result"
    }
   ],
   "source": [
    "comunalidades = fa.get_communalities()\n",
    "\n",
    "tabela_comunalidades = pd.DataFrame(comunalidades)\n",
    "tabela_comunalidades.columns = ['Comunalidades']\n",
    "tabela_comunalidades.index = notas_pca.columns\n",
    "tabela_comunalidades"
   ]
  },
  {
   "cell_type": "markdown",
   "id": "eb1cf34d-3c49-439b-9dc7-b75d79302c8c",
   "metadata": {},
   "source": [
    "### 10.2.6.15. Extração dos fatores para as observações do banco de dados"
   ]
  },
  {
   "cell_type": "code",
   "execution_count": 431,
   "id": "4c3624cc-6ea2-4cd0-a779-8f72926785b7",
   "metadata": {},
   "outputs": [
    {
     "data": {
      "text/html": [
       "<div>\n",
       "<style scoped>\n",
       "    .dataframe tbody tr th:only-of-type {\n",
       "        vertical-align: middle;\n",
       "    }\n",
       "\n",
       "    .dataframe tbody tr th {\n",
       "        vertical-align: top;\n",
       "    }\n",
       "\n",
       "    .dataframe thead th {\n",
       "        text-align: right;\n",
       "    }\n",
       "</style>\n",
       "<table border=\"1\" class=\"dataframe\">\n",
       "  <thead>\n",
       "    <tr style=\"text-align: right;\">\n",
       "      <th></th>\n",
       "      <th>Fator 1</th>\n",
       "      <th>Fator 2</th>\n",
       "      <th>Fator 3</th>\n",
       "      <th>Fator 4</th>\n",
       "    </tr>\n",
       "  </thead>\n",
       "  <tbody>\n",
       "    <tr>\n",
       "      <th>0</th>\n",
       "      <td>0.015232</td>\n",
       "      <td>-1.673452</td>\n",
       "      <td>-0.176396</td>\n",
       "      <td>0.743198</td>\n",
       "    </tr>\n",
       "    <tr>\n",
       "      <th>1</th>\n",
       "      <td>-1.082468</td>\n",
       "      <td>1.510196</td>\n",
       "      <td>0.344452</td>\n",
       "      <td>-0.829870</td>\n",
       "    </tr>\n",
       "    <tr>\n",
       "      <th>2</th>\n",
       "      <td>-0.603231</td>\n",
       "      <td>-0.607015</td>\n",
       "      <td>-0.635247</td>\n",
       "      <td>-0.670994</td>\n",
       "    </tr>\n",
       "    <tr>\n",
       "      <th>3</th>\n",
       "      <td>1.352586</td>\n",
       "      <td>0.891321</td>\n",
       "      <td>0.327787</td>\n",
       "      <td>-0.228435</td>\n",
       "    </tr>\n",
       "    <tr>\n",
       "      <th>4</th>\n",
       "      <td>-0.984279</td>\n",
       "      <td>-0.926699</td>\n",
       "      <td>0.163203</td>\n",
       "      <td>0.384190</td>\n",
       "    </tr>\n",
       "    <tr>\n",
       "      <th>...</th>\n",
       "      <td>...</td>\n",
       "      <td>...</td>\n",
       "      <td>...</td>\n",
       "      <td>...</td>\n",
       "    </tr>\n",
       "    <tr>\n",
       "      <th>95</th>\n",
       "      <td>0.121867</td>\n",
       "      <td>-0.169227</td>\n",
       "      <td>1.037620</td>\n",
       "      <td>0.456371</td>\n",
       "    </tr>\n",
       "    <tr>\n",
       "      <th>96</th>\n",
       "      <td>1.220881</td>\n",
       "      <td>-0.577316</td>\n",
       "      <td>-0.549185</td>\n",
       "      <td>1.961256</td>\n",
       "    </tr>\n",
       "    <tr>\n",
       "      <th>97</th>\n",
       "      <td>0.829146</td>\n",
       "      <td>0.499201</td>\n",
       "      <td>0.735807</td>\n",
       "      <td>0.557208</td>\n",
       "    </tr>\n",
       "    <tr>\n",
       "      <th>98</th>\n",
       "      <td>1.186171</td>\n",
       "      <td>-0.918969</td>\n",
       "      <td>-0.304080</td>\n",
       "      <td>1.111389</td>\n",
       "    </tr>\n",
       "    <tr>\n",
       "      <th>99</th>\n",
       "      <td>0.807290</td>\n",
       "      <td>-1.299785</td>\n",
       "      <td>0.304954</td>\n",
       "      <td>1.617390</td>\n",
       "    </tr>\n",
       "  </tbody>\n",
       "</table>\n",
       "<p>100 rows × 4 columns</p>\n",
       "</div>"
      ],
      "text/plain": [
       "     Fator 1   Fator 2   Fator 3   Fator 4\n",
       "0   0.015232 -1.673452 -0.176396  0.743198\n",
       "1  -1.082468  1.510196  0.344452 -0.829870\n",
       "2  -0.603231 -0.607015 -0.635247 -0.670994\n",
       "3   1.352586  0.891321  0.327787 -0.228435\n",
       "4  -0.984279 -0.926699  0.163203  0.384190\n",
       "..       ...       ...       ...       ...\n",
       "95  0.121867 -0.169227  1.037620  0.456371\n",
       "96  1.220881 -0.577316 -0.549185  1.961256\n",
       "97  0.829146  0.499201  0.735807  0.557208\n",
       "98  1.186171 -0.918969 -0.304080  1.111389\n",
       "99  0.807290 -1.299785  0.304954  1.617390\n",
       "\n",
       "[100 rows x 4 columns]"
      ]
     },
     "execution_count": 431,
     "metadata": {},
     "output_type": "execute_result"
    }
   ],
   "source": [
    "fatores = pd.DataFrame(fa.transform(notas_pca))\n",
    "fatores.columns =  [f\"Fator {i+1}\" for i, v in enumerate(fatores.columns)]\n",
    "fatores"
   ]
  },
  {
   "cell_type": "code",
   "execution_count": 433,
   "id": "b459188b-f36d-4122-8270-28e390c88585",
   "metadata": {},
   "outputs": [
    {
     "data": {
      "text/html": [
       "<div>\n",
       "<style scoped>\n",
       "    .dataframe tbody tr th:only-of-type {\n",
       "        vertical-align: middle;\n",
       "    }\n",
       "\n",
       "    .dataframe tbody tr th {\n",
       "        vertical-align: top;\n",
       "    }\n",
       "\n",
       "    .dataframe thead th {\n",
       "        text-align: right;\n",
       "    }\n",
       "</style>\n",
       "<table border=\"1\" class=\"dataframe\">\n",
       "  <thead>\n",
       "    <tr style=\"text-align: right;\">\n",
       "      <th></th>\n",
       "      <th>estudante</th>\n",
       "      <th>finanças</th>\n",
       "      <th>custos</th>\n",
       "      <th>marketing</th>\n",
       "      <th>atuária</th>\n",
       "      <th>Fator 1</th>\n",
       "      <th>Fator 2</th>\n",
       "      <th>Fator 3</th>\n",
       "      <th>Fator 4</th>\n",
       "    </tr>\n",
       "  </thead>\n",
       "  <tbody>\n",
       "    <tr>\n",
       "      <th>0</th>\n",
       "      <td>Gabriela</td>\n",
       "      <td>5.8</td>\n",
       "      <td>4.0</td>\n",
       "      <td>1.0</td>\n",
       "      <td>6.0</td>\n",
       "      <td>0.015232</td>\n",
       "      <td>-1.673452</td>\n",
       "      <td>-0.176396</td>\n",
       "      <td>0.743198</td>\n",
       "    </tr>\n",
       "    <tr>\n",
       "      <th>1</th>\n",
       "      <td>Luiz Felipe</td>\n",
       "      <td>3.1</td>\n",
       "      <td>3.0</td>\n",
       "      <td>10.0</td>\n",
       "      <td>2.0</td>\n",
       "      <td>-1.082468</td>\n",
       "      <td>1.510196</td>\n",
       "      <td>0.344452</td>\n",
       "      <td>-0.829870</td>\n",
       "    </tr>\n",
       "    <tr>\n",
       "      <th>2</th>\n",
       "      <td>Patrícia</td>\n",
       "      <td>3.1</td>\n",
       "      <td>4.0</td>\n",
       "      <td>4.0</td>\n",
       "      <td>4.0</td>\n",
       "      <td>-0.603231</td>\n",
       "      <td>-0.607015</td>\n",
       "      <td>-0.635247</td>\n",
       "      <td>-0.670994</td>\n",
       "    </tr>\n",
       "    <tr>\n",
       "      <th>3</th>\n",
       "      <td>Gustavo</td>\n",
       "      <td>10.0</td>\n",
       "      <td>8.0</td>\n",
       "      <td>8.0</td>\n",
       "      <td>8.0</td>\n",
       "      <td>1.352586</td>\n",
       "      <td>0.891321</td>\n",
       "      <td>0.327787</td>\n",
       "      <td>-0.228435</td>\n",
       "    </tr>\n",
       "    <tr>\n",
       "      <th>4</th>\n",
       "      <td>Letícia</td>\n",
       "      <td>3.4</td>\n",
       "      <td>2.0</td>\n",
       "      <td>3.2</td>\n",
       "      <td>3.2</td>\n",
       "      <td>-0.984279</td>\n",
       "      <td>-0.926699</td>\n",
       "      <td>0.163203</td>\n",
       "      <td>0.384190</td>\n",
       "    </tr>\n",
       "    <tr>\n",
       "      <th>...</th>\n",
       "      <td>...</td>\n",
       "      <td>...</td>\n",
       "      <td>...</td>\n",
       "      <td>...</td>\n",
       "      <td>...</td>\n",
       "      <td>...</td>\n",
       "      <td>...</td>\n",
       "      <td>...</td>\n",
       "      <td>...</td>\n",
       "    </tr>\n",
       "    <tr>\n",
       "      <th>95</th>\n",
       "      <td>Sheila</td>\n",
       "      <td>7.7</td>\n",
       "      <td>4.3</td>\n",
       "      <td>5.2</td>\n",
       "      <td>5.1</td>\n",
       "      <td>0.121867</td>\n",
       "      <td>-0.169227</td>\n",
       "      <td>1.037620</td>\n",
       "      <td>0.456371</td>\n",
       "    </tr>\n",
       "    <tr>\n",
       "      <th>96</th>\n",
       "      <td>Pedro</td>\n",
       "      <td>9.0</td>\n",
       "      <td>6.0</td>\n",
       "      <td>4.0</td>\n",
       "      <td>9.8</td>\n",
       "      <td>1.220881</td>\n",
       "      <td>-0.577316</td>\n",
       "      <td>-0.549185</td>\n",
       "      <td>1.961256</td>\n",
       "    </tr>\n",
       "    <tr>\n",
       "      <th>97</th>\n",
       "      <td>Horácio</td>\n",
       "      <td>9.3</td>\n",
       "      <td>6.0</td>\n",
       "      <td>7.0</td>\n",
       "      <td>7.0</td>\n",
       "      <td>0.829146</td>\n",
       "      <td>0.499201</td>\n",
       "      <td>0.735807</td>\n",
       "      <td>0.557208</td>\n",
       "    </tr>\n",
       "    <tr>\n",
       "      <th>98</th>\n",
       "      <td>Leandro</td>\n",
       "      <td>9.0</td>\n",
       "      <td>6.5</td>\n",
       "      <td>3.0</td>\n",
       "      <td>9.0</td>\n",
       "      <td>1.186171</td>\n",
       "      <td>-0.918969</td>\n",
       "      <td>-0.304080</td>\n",
       "      <td>1.111389</td>\n",
       "    </tr>\n",
       "    <tr>\n",
       "      <th>99</th>\n",
       "      <td>Estela</td>\n",
       "      <td>8.9</td>\n",
       "      <td>5.0</td>\n",
       "      <td>2.0</td>\n",
       "      <td>8.0</td>\n",
       "      <td>0.807290</td>\n",
       "      <td>-1.299785</td>\n",
       "      <td>0.304954</td>\n",
       "      <td>1.617390</td>\n",
       "    </tr>\n",
       "  </tbody>\n",
       "</table>\n",
       "<p>100 rows × 9 columns</p>\n",
       "</div>"
      ],
      "text/plain": [
       "      estudante  finanças  custos  marketing  atuária   Fator 1   Fator 2  \\\n",
       "0      Gabriela       5.8     4.0        1.0      6.0  0.015232 -1.673452   \n",
       "1   Luiz Felipe       3.1     3.0       10.0      2.0 -1.082468  1.510196   \n",
       "2      Patrícia       3.1     4.0        4.0      4.0 -0.603231 -0.607015   \n",
       "3       Gustavo      10.0     8.0        8.0      8.0  1.352586  0.891321   \n",
       "4       Letícia       3.4     2.0        3.2      3.2 -0.984279 -0.926699   \n",
       "..          ...       ...     ...        ...      ...       ...       ...   \n",
       "95       Sheila       7.7     4.3        5.2      5.1  0.121867 -0.169227   \n",
       "96        Pedro       9.0     6.0        4.0      9.8  1.220881 -0.577316   \n",
       "97      Horácio       9.3     6.0        7.0      7.0  0.829146  0.499201   \n",
       "98      Leandro       9.0     6.5        3.0      9.0  1.186171 -0.918969   \n",
       "99       Estela       8.9     5.0        2.0      8.0  0.807290 -1.299785   \n",
       "\n",
       "     Fator 3   Fator 4  \n",
       "0  -0.176396  0.743198  \n",
       "1   0.344452 -0.829870  \n",
       "2  -0.635247 -0.670994  \n",
       "3   0.327787 -0.228435  \n",
       "4   0.163203  0.384190  \n",
       "..       ...       ...  \n",
       "95  1.037620  0.456371  \n",
       "96 -0.549185  1.961256  \n",
       "97  0.735807  0.557208  \n",
       "98 -0.304080  1.111389  \n",
       "99  0.304954  1.617390  \n",
       "\n",
       "[100 rows x 9 columns]"
      ]
     },
     "execution_count": 433,
     "metadata": {},
     "output_type": "execute_result"
    }
   ],
   "source": [
    "# Adicionando os fatores ao banco de dados\n",
    "notas = pd.concat([notas.reset_index(drop=True), fatores], axis=1)\n",
    "notas"
   ]
  },
  {
   "cell_type": "markdown",
   "id": "28556f18-2547-4ae3-990b-39c909a3f406",
   "metadata": {},
   "source": [
    "### 10.2.6.16. Identificando os scores fatoriais"
   ]
  },
  {
   "cell_type": "code",
   "execution_count": 436,
   "id": "7aa27657-bf06-4933-82c1-d6d71549cc98",
   "metadata": {},
   "outputs": [
    {
     "data": {
      "text/html": [
       "<div>\n",
       "<style scoped>\n",
       "    .dataframe tbody tr th:only-of-type {\n",
       "        vertical-align: middle;\n",
       "    }\n",
       "\n",
       "    .dataframe tbody tr th {\n",
       "        vertical-align: top;\n",
       "    }\n",
       "\n",
       "    .dataframe thead th {\n",
       "        text-align: right;\n",
       "    }\n",
       "</style>\n",
       "<table border=\"1\" class=\"dataframe\">\n",
       "  <thead>\n",
       "    <tr style=\"text-align: right;\">\n",
       "      <th></th>\n",
       "      <th>Fator 1</th>\n",
       "      <th>Fator 2</th>\n",
       "      <th>Fator 3</th>\n",
       "      <th>Fator 4</th>\n",
       "    </tr>\n",
       "  </thead>\n",
       "  <tbody>\n",
       "    <tr>\n",
       "      <th>finanças</th>\n",
       "      <td>0.355581</td>\n",
       "      <td>0.007083</td>\n",
       "      <td>1.467395</td>\n",
       "      <td>0.470601</td>\n",
       "    </tr>\n",
       "    <tr>\n",
       "      <th>custos</th>\n",
       "      <td>0.370924</td>\n",
       "      <td>0.048562</td>\n",
       "      <td>-0.402475</td>\n",
       "      <td>-1.810861</td>\n",
       "    </tr>\n",
       "    <tr>\n",
       "      <th>marketing</th>\n",
       "      <td>-0.016864</td>\n",
       "      <td>0.998554</td>\n",
       "      <td>-0.001204</td>\n",
       "      <td>0.098814</td>\n",
       "    </tr>\n",
       "    <tr>\n",
       "      <th>atuária</th>\n",
       "      <td>0.364436</td>\n",
       "      <td>-0.010129</td>\n",
       "      <td>-1.022155</td>\n",
       "      <td>1.388503</td>\n",
       "    </tr>\n",
       "  </tbody>\n",
       "</table>\n",
       "</div>"
      ],
      "text/plain": [
       "            Fator 1   Fator 2   Fator 3   Fator 4\n",
       "finanças   0.355581  0.007083  1.467395  0.470601\n",
       "custos     0.370924  0.048562 -0.402475 -1.810861\n",
       "marketing -0.016864  0.998554 -0.001204  0.098814\n",
       "atuária    0.364436 -0.010129 -1.022155  1.388503"
      ]
     },
     "execution_count": 436,
     "metadata": {},
     "output_type": "execute_result"
    }
   ],
   "source": [
    "scores = fa.weights_\n",
    "\n",
    "tabela_scores = pd.DataFrame(scores)\n",
    "tabela_scores.columns = [f\"Fator {i+1}\" for i, v in enumerate(tabela_scores.columns)]\n",
    "tabela_scores.index = notas_pca.columns\n",
    "tabela_scores"
   ]
  },
  {
   "cell_type": "code",
   "execution_count": 438,
   "id": "a8bfb900-a44f-4bd6-99b2-f189fdc302e9",
   "metadata": {},
   "outputs": [
    {
     "name": "stderr",
     "output_type": "stream",
     "text": [
      "C:\\Users\\diasr\\anaconda3\\Lib\\site-packages\\pingouin\\correlation.py:1116: FutureWarning: DataFrame.applymap has been deprecated. Use DataFrame.map instead.\n",
      "  mat_upper = mat_upper.applymap(replace_pval)\n"
     ]
    },
    {
     "data": {
      "text/html": [
       "<div>\n",
       "<style scoped>\n",
       "    .dataframe tbody tr th:only-of-type {\n",
       "        vertical-align: middle;\n",
       "    }\n",
       "\n",
       "    .dataframe tbody tr th {\n",
       "        vertical-align: top;\n",
       "    }\n",
       "\n",
       "    .dataframe thead th {\n",
       "        text-align: right;\n",
       "    }\n",
       "</style>\n",
       "<table border=\"1\" class=\"dataframe\">\n",
       "  <thead>\n",
       "    <tr style=\"text-align: right;\">\n",
       "      <th></th>\n",
       "      <th>Fator 1</th>\n",
       "      <th>Fator 2</th>\n",
       "      <th>Fator 3</th>\n",
       "      <th>Fator 4</th>\n",
       "    </tr>\n",
       "  </thead>\n",
       "  <tbody>\n",
       "    <tr>\n",
       "      <th>Fator 1</th>\n",
       "      <td>-</td>\n",
       "      <td></td>\n",
       "      <td></td>\n",
       "      <td></td>\n",
       "    </tr>\n",
       "    <tr>\n",
       "      <th>Fator 2</th>\n",
       "      <td>0.0</td>\n",
       "      <td>-</td>\n",
       "      <td></td>\n",
       "      <td></td>\n",
       "    </tr>\n",
       "    <tr>\n",
       "      <th>Fator 3</th>\n",
       "      <td>-0.0</td>\n",
       "      <td>-0.0</td>\n",
       "      <td>-</td>\n",
       "      <td></td>\n",
       "    </tr>\n",
       "    <tr>\n",
       "      <th>Fator 4</th>\n",
       "      <td>-0.0</td>\n",
       "      <td>0.0</td>\n",
       "      <td>0.0</td>\n",
       "      <td>-</td>\n",
       "    </tr>\n",
       "  </tbody>\n",
       "</table>\n",
       "</div>"
      ],
      "text/plain": [
       "        Fator 1 Fator 2 Fator 3 Fator 4\n",
       "Fator 1       -                        \n",
       "Fator 2     0.0       -                \n",
       "Fator 3    -0.0    -0.0       -        \n",
       "Fator 4    -0.0     0.0     0.0       -"
      ]
     },
     "execution_count": 438,
     "metadata": {},
     "output_type": "execute_result"
    }
   ],
   "source": [
    "# A seguir, verifica-se que a correlação entre os fatores é zero (ortogonais)\n",
    "\n",
    "pg.rcorr(notas[['Fator 1','Fator 2', 'Fator 3', 'Fator 4']],\n",
    "         method = 'pearson', upper = 'pval', \n",
    "         decimals = 4, \n",
    "         pval_stars = {0.01: '***', 0.05: '**', 0.10: '*'})"
   ]
  },
  {
   "cell_type": "code",
   "execution_count": null,
   "id": "cbff69a1-d6d9-4eeb-88ad-99d5ea472c1c",
   "metadata": {},
   "outputs": [],
   "source": []
  }
 ],
 "metadata": {
  "kernelspec": {
   "display_name": "Python 3 (ipykernel)",
   "language": "python",
   "name": "python3"
  },
  "language_info": {
   "codemirror_mode": {
    "name": "ipython",
    "version": 3
   },
   "file_extension": ".py",
   "mimetype": "text/x-python",
   "name": "python",
   "nbconvert_exporter": "python",
   "pygments_lexer": "ipython3",
   "version": "3.11.7"
  }
 },
 "nbformat": 4,
 "nbformat_minor": 5
}
